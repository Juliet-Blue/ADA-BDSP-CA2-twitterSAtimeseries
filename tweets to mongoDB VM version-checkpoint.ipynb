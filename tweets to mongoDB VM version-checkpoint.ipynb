{
 "cells": [
  {
   "cell_type": "code",
   "execution_count": 1,
   "id": "43f67208",
   "metadata": {},
   "outputs": [],
   "source": [
    "#!pip uninstall pymongo"
   ]
  },
  {
   "cell_type": "code",
   "execution_count": 2,
   "id": "95e8e34b",
   "metadata": {},
   "outputs": [],
   "source": [
    "#!pip install pymongo==3.13.0"
   ]
  },
  {
   "cell_type": "code",
   "execution_count": 3,
   "id": "73c306fc",
   "metadata": {},
   "outputs": [],
   "source": [
    "import pymongo"
   ]
  },
  {
   "cell_type": "code",
   "execution_count": 4,
   "id": "3d544def",
   "metadata": {},
   "outputs": [
    {
     "data": {
      "text/plain": [
       "'3.13.0'"
      ]
     },
     "execution_count": 4,
     "metadata": {},
     "output_type": "execute_result"
    }
   ],
   "source": [
    "pymongo.version"
   ]
  },
  {
   "cell_type": "code",
   "execution_count": 5,
   "id": "fcd7a868",
   "metadata": {},
   "outputs": [],
   "source": [
    "client = pymongo.MongoClient(\"mongodb://localhost:27017\")"
   ]
  },
  {
   "cell_type": "code",
   "execution_count": 6,
   "id": "4d8635fc",
   "metadata": {},
   "outputs": [
    {
     "data": {
      "text/plain": [
       "['MishaTweets', 'local']"
      ]
     },
     "execution_count": 6,
     "metadata": {},
     "output_type": "execute_result"
    }
   ],
   "source": [
    "client.list_database_names()"
   ]
  },
  {
   "cell_type": "code",
   "execution_count": 7,
   "id": "977fce15",
   "metadata": {},
   "outputs": [],
   "source": [
    "import os"
   ]
  },
  {
   "cell_type": "code",
   "execution_count": 8,
   "id": "b6271c29",
   "metadata": {},
   "outputs": [
    {
     "data": {
      "text/plain": [
       "['key_tweets_2022-07.json',\n",
       " '.git',\n",
       " '.ipynb_checkpoints',\n",
       " 'key_tweets_2022-03.json',\n",
       " 'cleaned_tweets.csv',\n",
       " 'key_tweets_2022-10.json',\n",
       " 'key_tweets_2022-05.json',\n",
       " 'archive.org tweet extract.ipynb',\n",
       " 'weekly_tweet_sentiment.png',\n",
       " '.gitattributes',\n",
       " 'key_tweets_2022-06.json',\n",
       " 'daily_tweet_sentiment.png',\n",
       " 'tweets to mongoDB.ipynb',\n",
       " 'daily_sentiment.csv',\n",
       " 'mishacollins_wordcloud.png',\n",
       " 'key_tweets_2022-08.json',\n",
       " 'key_tweets_2021-11.json',\n",
       " 'tweets to mongoDB VM version.ipynb',\n",
       " 'key_tweets_2022-11.json',\n",
       " 'key_tweets_2022-01.json',\n",
       " 'key_tweets_2022-04.json',\n",
       " 'key_tweets_2021-12.json',\n",
       " 'key_tweets_2022-02.json',\n",
       " 'sentiment analysis.ipynb',\n",
       " 'key_tweets_2022-09.json']"
      ]
     },
     "execution_count": 8,
     "metadata": {},
     "output_type": "execute_result"
    }
   ],
   "source": [
    "os.listdir(os.getcwd())"
   ]
  },
  {
   "cell_type": "code",
   "execution_count": 9,
   "id": "526a5d5e",
   "metadata": {},
   "outputs": [],
   "source": [
    "import json"
   ]
  },
  {
   "cell_type": "code",
   "execution_count": 10,
   "id": "91d9ed9e",
   "metadata": {},
   "outputs": [],
   "source": [
    "tweets = []\n",
    "with open(r\"key_tweets_2021-11.json\", encoding=\"utf8\") as f:\n",
    "    for line in f:\n",
    "        tweets.append(json.loads(line))\n"
   ]
  },
  {
   "cell_type": "code",
   "execution_count": 11,
   "id": "fc40668d",
   "metadata": {},
   "outputs": [
    {
     "data": {
      "text/plain": [
       "{'created_at': 'Mon Nov 01 02:02:27 +0000 2021',\n",
       " 'text': '@mishacollins',\n",
       " 'source': '<a href=\"http://twitter.com/download/android\" rel=\"nofollow\">Twitter for Android</a>',\n",
       " '\\n            \"user\": {\\n                \"id\": tweet_user_id,\\n                \"name\": tweet_user_name,\\n                \"location\": tweet_user_location,\\n                \"url\": tweet_user_url,\\n                \"description\": tweet_user_description,\\n                \"verified\": tweet_user_verified,\\n                \"followers_count\": tweet_user_follower_count,\\n                \"friends_count\": tweet_user_friends_count,\\n                \"favourites_count\": tweet_user_favourites_count,\\n                \"statuses_count\": tweet_user_statuses_count,\\n                \"created_at\": tweet_user_created_at,\\n                \"utc_offset\": tweet_user_utc_offset,\\n                \"time_zone\": tweet_user_timezone,\\n                \"geo_enabled\": tweet_user_geo_enabled,\\n                \"lang\": tweet_user_language,\\n                },\\n            lang': 'und',\n",
       " 'timestamp_ms': '1635732147661'}"
      ]
     },
     "execution_count": 11,
     "metadata": {},
     "output_type": "execute_result"
    }
   ],
   "source": [
    "tweets[0][0]"
   ]
  },
  {
   "cell_type": "code",
   "execution_count": 12,
   "id": "1314dafb",
   "metadata": {},
   "outputs": [],
   "source": [
    "db = client['MishaTweets']"
   ]
  },
  {
   "cell_type": "code",
   "execution_count": 13,
   "id": "953e7306",
   "metadata": {},
   "outputs": [],
   "source": [
    "coll = db['MishaTweets2111']"
   ]
  },
  {
   "cell_type": "code",
   "execution_count": 14,
   "id": "5d7b073f",
   "metadata": {},
   "outputs": [
    {
     "data": {
      "text/plain": [
       "526"
      ]
     },
     "execution_count": 14,
     "metadata": {},
     "output_type": "execute_result"
    }
   ],
   "source": [
    "len(tweets)"
   ]
  },
  {
   "cell_type": "code",
   "execution_count": 15,
   "id": "5301a6d3",
   "metadata": {},
   "outputs": [],
   "source": [
    "for tweet in tweets:\n",
    "    coll.insert_one(tweet[0])"
   ]
  },
  {
   "cell_type": "code",
   "execution_count": 16,
   "id": "1ae63df5",
   "metadata": {},
   "outputs": [
    {
     "data": {
      "text/plain": [
       "Collection(Database(MongoClient(host=['localhost:27017'], document_class=dict, tz_aware=False, connect=True), 'MishaTweets'), 'MishaTweets2111')"
      ]
     },
     "execution_count": 16,
     "metadata": {},
     "output_type": "execute_result"
    }
   ],
   "source": [
    "coll"
   ]
  },
  {
   "cell_type": "code",
   "execution_count": 17,
   "id": "1ebb8081",
   "metadata": {},
   "outputs": [
    {
     "data": {
      "text/plain": [
       "['key_tweets_2022-07.json',\n",
       " 'key_tweets_2022-03.json',\n",
       " 'key_tweets_2022-10.json',\n",
       " 'key_tweets_2022-05.json',\n",
       " 'key_tweets_2022-06.json',\n",
       " 'key_tweets_2022-08.json',\n",
       " 'key_tweets_2021-11.json',\n",
       " 'key_tweets_2022-11.json',\n",
       " 'key_tweets_2022-01.json',\n",
       " 'key_tweets_2022-04.json',\n",
       " 'key_tweets_2021-12.json',\n",
       " 'key_tweets_2022-02.json',\n",
       " 'key_tweets_2022-09.json']"
      ]
     },
     "execution_count": 17,
     "metadata": {},
     "output_type": "execute_result"
    }
   ],
   "source": [
    "import glob\n",
    "\n",
    "path = '*.json'\n",
    "files = glob.glob(path)\n",
    "files"
   ]
  },
  {
   "cell_type": "code",
   "execution_count": 18,
   "id": "b0bfb102",
   "metadata": {},
   "outputs": [],
   "source": [
    "db.coll.drop()"
   ]
  },
  {
   "cell_type": "code",
   "execution_count": 19,
   "id": "20b03b72",
   "metadata": {},
   "outputs": [
    {
     "data": {
      "text/plain": [
       "Database(MongoClient(host=['localhost:27017'], document_class=dict, tz_aware=False, connect=True), 'MishaTweets')"
      ]
     },
     "execution_count": 19,
     "metadata": {},
     "output_type": "execute_result"
    }
   ],
   "source": [
    "db"
   ]
  },
  {
   "cell_type": "code",
   "execution_count": 20,
   "id": "d87aeba3",
   "metadata": {},
   "outputs": [
    {
     "data": {
      "text/plain": [
       "'2022-07'"
      ]
     },
     "execution_count": 20,
     "metadata": {},
     "output_type": "execute_result"
    }
   ],
   "source": [
    "files[0][11:-5]"
   ]
  },
  {
   "cell_type": "code",
   "execution_count": 21,
   "id": "c0a1e775",
   "metadata": {},
   "outputs": [],
   "source": [
    "for file in files:\n",
    "    \n",
    "    tweets = []\n",
    "    coll_name = 'MishaTweets'+file[11:-5]\n",
    "    coll = db[coll_name]\n",
    "    \n",
    "    with open(r\"key_tweets_2021-11.json\", encoding=\"utf8\") as f:\n",
    "        for line in f:\n",
    "            tweets.append(json.loads(line))\n",
    "    \n",
    "    for tweet in tweets:\n",
    "        coll.insert_one(tweet[0])\n",
    "    "
   ]
  },
  {
   "cell_type": "code",
   "execution_count": 24,
   "id": "1d088f02",
   "metadata": {},
   "outputs": [
    {
     "data": {
      "text/plain": [
       "['MishaTweets2022-01',\n",
       " 'MishaTweets2022-04',\n",
       " 'MishaTweets2022-06',\n",
       " 'MishaTweets2022-07',\n",
       " 'MishaTweets2022-08',\n",
       " 'MishaTweets2022-03',\n",
       " 'MishaTweets2022-10',\n",
       " 'MishaTweets2022-11',\n",
       " 'MishaTweets2111',\n",
       " 'MishaTweets2022-02',\n",
       " 'MishaTweets2022-05',\n",
       " 'MishaTweets2022-09',\n",
       " 'MishaTweets2021-11',\n",
       " 'MishaTweets2021-12']"
      ]
     },
     "execution_count": 24,
     "metadata": {},
     "output_type": "execute_result"
    }
   ],
   "source": [
    "db.list_collection_names()"
   ]
  },
  {
   "cell_type": "code",
   "execution_count": 29,
   "id": "0f0454b4",
   "metadata": {},
   "outputs": [
    {
     "name": "stderr",
     "output_type": "stream",
     "text": [
      "/tmp/ipykernel_5128/3593124750.py:1: DeprecationWarning: count is deprecated. Use Collection.count_documents instead.\n",
      "  db.get_collection('MishaTweets2022-01').find().count()\n"
     ]
    },
    {
     "data": {
      "text/plain": [
       "526"
      ]
     },
     "execution_count": 29,
     "metadata": {},
     "output_type": "execute_result"
    }
   ],
   "source": [
    "db.get_collection('MishaTweets2022-01').find().count()"
   ]
  },
  {
   "cell_type": "code",
   "execution_count": 30,
   "id": "168fed49",
   "metadata": {},
   "outputs": [
    {
     "data": {
      "text/plain": [
       "{'_id': ObjectId('646e81ed8dc9435887e05354'),\n",
       " 'created_at': 'Mon Nov 01 02:02:27 +0000 2021',\n",
       " 'text': '@mishacollins',\n",
       " 'source': '<a href=\"http://twitter.com/download/android\" rel=\"nofollow\">Twitter for Android</a>',\n",
       " '\\n            \"user\": {\\n                \"id\": tweet_user_id,\\n                \"name\": tweet_user_name,\\n                \"location\": tweet_user_location,\\n                \"url\": tweet_user_url,\\n                \"description\": tweet_user_description,\\n                \"verified\": tweet_user_verified,\\n                \"followers_count\": tweet_user_follower_count,\\n                \"friends_count\": tweet_user_friends_count,\\n                \"favourites_count\": tweet_user_favourites_count,\\n                \"statuses_count\": tweet_user_statuses_count,\\n                \"created_at\": tweet_user_created_at,\\n                \"utc_offset\": tweet_user_utc_offset,\\n                \"time_zone\": tweet_user_timezone,\\n                \"geo_enabled\": tweet_user_geo_enabled,\\n                \"lang\": tweet_user_language,\\n                },\\n            lang': 'und',\n",
       " 'timestamp_ms': '1635732147661'}"
      ]
     },
     "execution_count": 30,
     "metadata": {},
     "output_type": "execute_result"
    }
   ],
   "source": [
    "db.get_collection('MishaTweets2022-01').find_one()"
   ]
  },
  {
   "cell_type": "code",
   "execution_count": 26,
   "id": "114cc986",
   "metadata": {},
   "outputs": [
    {
     "data": {
      "text/plain": [
       "{'ns': 'MishaTweets.MishaTweets2111', 'nIndexesWas': 1, 'ok': 1.0}"
      ]
     },
     "execution_count": 26,
     "metadata": {},
     "output_type": "execute_result"
    }
   ],
   "source": [
    "db.drop_collection('MishaTweets2111')"
   ]
  },
  {
   "cell_type": "code",
   "execution_count": 27,
   "id": "249d1f50",
   "metadata": {},
   "outputs": [
    {
     "data": {
      "text/plain": [
       "['MishaTweets2022-01',\n",
       " 'MishaTweets2022-04',\n",
       " 'MishaTweets2022-06',\n",
       " 'MishaTweets2022-07',\n",
       " 'MishaTweets2022-08',\n",
       " 'MishaTweets2022-03',\n",
       " 'MishaTweets2022-10',\n",
       " 'MishaTweets2022-11',\n",
       " 'MishaTweets2022-02',\n",
       " 'MishaTweets2022-05',\n",
       " 'MishaTweets2022-09',\n",
       " 'MishaTweets2021-11',\n",
       " 'MishaTweets2021-12']"
      ]
     },
     "execution_count": 27,
     "metadata": {},
     "output_type": "execute_result"
    }
   ],
   "source": [
    "db.list_collection_names()"
   ]
  },
  {
   "cell_type": "code",
   "execution_count": 31,
   "id": "f5f5e7b1",
   "metadata": {},
   "outputs": [],
   "source": [
    "coll = db['MishaTweets2022-01']"
   ]
  },
  {
   "cell_type": "code",
   "execution_count": 32,
   "id": "ed5762bc",
   "metadata": {},
   "outputs": [],
   "source": [
    "res = coll.find({'\\n            \"user\": {\\n                \"id\": tweet_user_id,\\n                \"name\": tweet_user_name,\\n                \"location\": tweet_user_location,\\n                \"url\": tweet_user_url,\\n                \"description\": tweet_user_description,\\n                \"verified\": tweet_user_verified,\\n                \"followers_count\": tweet_user_follower_count,\\n                \"friends_count\": tweet_user_friends_count,\\n                \"favourites_count\": tweet_user_favourites_count,\\n                \"statuses_count\": tweet_user_statuses_count,\\n                \"created_at\": tweet_user_created_at,\\n                \"utc_offset\": tweet_user_utc_offset,\\n                \"time_zone\": tweet_user_timezone,\\n                \"geo_enabled\": tweet_user_geo_enabled,\\n                \"lang\": tweet_user_language,\\n                },\\n            lang':'und'})"
   ]
  },
  {
   "cell_type": "code",
   "execution_count": 33,
   "id": "e4fdf2bc",
   "metadata": {},
   "outputs": [
    {
     "name": "stdout",
     "output_type": "stream",
     "text": [
      "{'_id': ObjectId('646e81ed8dc9435887e05354'), 'created_at': 'Mon Nov 01 02:02:27 +0000 2021', 'text': '@mishacollins', 'source': '<a href=\"http://twitter.com/download/android\" rel=\"nofollow\">Twitter for Android</a>', '\\n            \"user\": {\\n                \"id\": tweet_user_id,\\n                \"name\": tweet_user_name,\\n                \"location\": tweet_user_location,\\n                \"url\": tweet_user_url,\\n                \"description\": tweet_user_description,\\n                \"verified\": tweet_user_verified,\\n                \"followers_count\": tweet_user_follower_count,\\n                \"friends_count\": tweet_user_friends_count,\\n                \"favourites_count\": tweet_user_favourites_count,\\n                \"statuses_count\": tweet_user_statuses_count,\\n                \"created_at\": tweet_user_created_at,\\n                \"utc_offset\": tweet_user_utc_offset,\\n                \"time_zone\": tweet_user_timezone,\\n                \"geo_enabled\": tweet_user_geo_enabled,\\n                \"lang\": tweet_user_language,\\n                },\\n            lang': 'und', 'timestamp_ms': '1635732147661'}\n",
      "{'_id': ObjectId('646e81ed8dc9435887e05355'), 'created_at': 'Mon Nov 01 03:19:41 +0000 2021', 'text': '@mishacollins @vic_righthand SIR', 'source': '<a href=\"http://twitter.com/download/iphone\" rel=\"nofollow\">Twitter for iPhone</a>', '\\n            \"user\": {\\n                \"id\": tweet_user_id,\\n                \"name\": tweet_user_name,\\n                \"location\": tweet_user_location,\\n                \"url\": tweet_user_url,\\n                \"description\": tweet_user_description,\\n                \"verified\": tweet_user_verified,\\n                \"followers_count\": tweet_user_follower_count,\\n                \"friends_count\": tweet_user_friends_count,\\n                \"favourites_count\": tweet_user_favourites_count,\\n                \"statuses_count\": tweet_user_statuses_count,\\n                \"created_at\": tweet_user_created_at,\\n                \"utc_offset\": tweet_user_utc_offset,\\n                \"time_zone\": tweet_user_timezone,\\n                \"geo_enabled\": tweet_user_geo_enabled,\\n                \"lang\": tweet_user_language,\\n                },\\n            lang': 'und', 'timestamp_ms': '1635736781657'}\n",
      "{'_id': ObjectId('646e81ed8dc9435887e05388'), 'created_at': 'Tue Nov 02 19:39:03 +0000 2021', 'text': '@Stands @mishacollins @GISH @jarpad 💗', 'source': '<a href=\"http://twitter.com/download/android\" rel=\"nofollow\">Twitter for Android</a>', '\\n            \"user\": {\\n                \"id\": tweet_user_id,\\n                \"name\": tweet_user_name,\\n                \"location\": tweet_user_location,\\n                \"url\": tweet_user_url,\\n                \"description\": tweet_user_description,\\n                \"verified\": tweet_user_verified,\\n                \"followers_count\": tweet_user_follower_count,\\n                \"friends_count\": tweet_user_friends_count,\\n                \"favourites_count\": tweet_user_favourites_count,\\n                \"statuses_count\": tweet_user_statuses_count,\\n                \"created_at\": tweet_user_created_at,\\n                \"utc_offset\": tweet_user_utc_offset,\\n                \"time_zone\": tweet_user_timezone,\\n                \"geo_enabled\": tweet_user_geo_enabled,\\n                \"lang\": tweet_user_language,\\n                },\\n            lang': 'und', 'timestamp_ms': '1635881943665'}\n",
      "{'_id': ObjectId('646e81ed8dc9435887e0538a'), 'created_at': 'Tue Nov 02 23:34:03 +0000 2021', 'text': '@mishacollins ?', 'source': '<a href=\"http://twitter.com/download/iphone\" rel=\"nofollow\">Twitter for iPhone</a>', '\\n            \"user\": {\\n                \"id\": tweet_user_id,\\n                \"name\": tweet_user_name,\\n                \"location\": tweet_user_location,\\n                \"url\": tweet_user_url,\\n                \"description\": tweet_user_description,\\n                \"verified\": tweet_user_verified,\\n                \"followers_count\": tweet_user_follower_count,\\n                \"friends_count\": tweet_user_friends_count,\\n                \"favourites_count\": tweet_user_favourites_count,\\n                \"statuses_count\": tweet_user_statuses_count,\\n                \"created_at\": tweet_user_created_at,\\n                \"utc_offset\": tweet_user_utc_offset,\\n                \"time_zone\": tweet_user_timezone,\\n                \"geo_enabled\": tweet_user_geo_enabled,\\n                \"lang\": tweet_user_language,\\n                },\\n            lang': 'und', 'timestamp_ms': '1635896043661'}\n",
      "{'_id': ObjectId('646e81ed8dc9435887e0538c'), 'created_at': 'Wed Nov 03 02:49:28 +0000 2021', 'text': '@the_endverse @Emma_Crxssing @mishacollins @AndrewsMcMeel @BNBuzz @Target https://t.co/HenW5G87eF', 'source': '<a href=\"http://twitter.com/download/android\" rel=\"nofollow\">Twitter for Android</a>', '\\n            \"user\": {\\n                \"id\": tweet_user_id,\\n                \"name\": tweet_user_name,\\n                \"location\": tweet_user_location,\\n                \"url\": tweet_user_url,\\n                \"description\": tweet_user_description,\\n                \"verified\": tweet_user_verified,\\n                \"followers_count\": tweet_user_follower_count,\\n                \"friends_count\": tweet_user_friends_count,\\n                \"favourites_count\": tweet_user_favourites_count,\\n                \"statuses_count\": tweet_user_statuses_count,\\n                \"created_at\": tweet_user_created_at,\\n                \"utc_offset\": tweet_user_utc_offset,\\n                \"time_zone\": tweet_user_timezone,\\n                \"geo_enabled\": tweet_user_geo_enabled,\\n                \"lang\": tweet_user_language,\\n                },\\n            lang': 'und', 'timestamp_ms': '1635907768662'}\n",
      "{'_id': ObjectId('646e81ed8dc9435887e05392'), 'created_at': 'Wed Nov 03 23:00:01 +0000 2021', 'text': '@MarkRPellegrino @Alex8Calvert @mishacollins @JensenAckles @jarpad https://t.co/TkcZBVoUiV', 'source': '<a href=\"https://zlappo.com\" rel=\"nofollow\">Zlappo.com</a>', '\\n            \"user\": {\\n                \"id\": tweet_user_id,\\n                \"name\": tweet_user_name,\\n                \"location\": tweet_user_location,\\n                \"url\": tweet_user_url,\\n                \"description\": tweet_user_description,\\n                \"verified\": tweet_user_verified,\\n                \"followers_count\": tweet_user_follower_count,\\n                \"friends_count\": tweet_user_friends_count,\\n                \"favourites_count\": tweet_user_favourites_count,\\n                \"statuses_count\": tweet_user_statuses_count,\\n                \"created_at\": tweet_user_created_at,\\n                \"utc_offset\": tweet_user_utc_offset,\\n                \"time_zone\": tweet_user_timezone,\\n                \"geo_enabled\": tweet_user_geo_enabled,\\n                \"lang\": tweet_user_language,\\n                },\\n            lang': 'und', 'timestamp_ms': '1635980401665'}\n",
      "{'_id': ObjectId('646e81ed8dc9435887e053a7'), 'created_at': 'Thu Nov 04 23:50:01 +0000 2021', 'text': '@neadarmstrong @mishacollins https://t.co/98paWbMBHa', 'source': '<a href=\"https://zlappo.com\" rel=\"nofollow\">Zlappo.com</a>', '\\n            \"user\": {\\n                \"id\": tweet_user_id,\\n                \"name\": tweet_user_name,\\n                \"location\": tweet_user_location,\\n                \"url\": tweet_user_url,\\n                \"description\": tweet_user_description,\\n                \"verified\": tweet_user_verified,\\n                \"followers_count\": tweet_user_follower_count,\\n                \"friends_count\": tweet_user_friends_count,\\n                \"favourites_count\": tweet_user_favourites_count,\\n                \"statuses_count\": tweet_user_statuses_count,\\n                \"created_at\": tweet_user_created_at,\\n                \"utc_offset\": tweet_user_utc_offset,\\n                \"time_zone\": tweet_user_timezone,\\n                \"geo_enabled\": tweet_user_geo_enabled,\\n                \"lang\": tweet_user_language,\\n                },\\n            lang': 'und', 'timestamp_ms': '1636069801666'}\n",
      "{'_id': ObjectId('646e81ed8dc9435887e053b8'), 'created_at': 'Fri Nov 05 10:02:34 +0000 2021', 'text': 'RT @queenRobina: #mishacollins https://t.co/914M4COJkC', 'source': '<a href=\"https://mobile.twitter.com\" rel=\"nofollow\">Twitter Web App</a>', '\\n            \"user\": {\\n                \"id\": tweet_user_id,\\n                \"name\": tweet_user_name,\\n                \"location\": tweet_user_location,\\n                \"url\": tweet_user_url,\\n                \"description\": tweet_user_description,\\n                \"verified\": tweet_user_verified,\\n                \"followers_count\": tweet_user_follower_count,\\n                \"friends_count\": tweet_user_friends_count,\\n                \"favourites_count\": tweet_user_favourites_count,\\n                \"statuses_count\": tweet_user_statuses_count,\\n                \"created_at\": tweet_user_created_at,\\n                \"utc_offset\": tweet_user_utc_offset,\\n                \"time_zone\": tweet_user_timezone,\\n                \"geo_enabled\": tweet_user_geo_enabled,\\n                \"lang\": tweet_user_language,\\n                },\\n            lang': 'und', 'timestamp_ms': '1636106554660'}\n",
      "{'_id': ObjectId('646e81ed8dc9435887e053cb'), 'created_at': 'Fri Nov 05 21:51:00 +0000 2021', 'text': 'dt:\\n@svftcas @patrocluscas @mishacollins', 'source': '<a href=\"https://mobile.twitter.com\" rel=\"nofollow\">Twitter Web App</a>', '\\n            \"user\": {\\n                \"id\": tweet_user_id,\\n                \"name\": tweet_user_name,\\n                \"location\": tweet_user_location,\\n                \"url\": tweet_user_url,\\n                \"description\": tweet_user_description,\\n                \"verified\": tweet_user_verified,\\n                \"followers_count\": tweet_user_follower_count,\\n                \"friends_count\": tweet_user_friends_count,\\n                \"favourites_count\": tweet_user_favourites_count,\\n                \"statuses_count\": tweet_user_statuses_count,\\n                \"created_at\": tweet_user_created_at,\\n                \"utc_offset\": tweet_user_utc_offset,\\n                \"time_zone\": tweet_user_timezone,\\n                \"geo_enabled\": tweet_user_geo_enabled,\\n                \"lang\": tweet_user_language,\\n                },\\n            lang': 'und', 'timestamp_ms': '1636149060657'}\n",
      "{'_id': ObjectId('646e81ed8dc9435887e053cc'), 'created_at': 'Fri Nov 05 22:19:53 +0000 2021', 'text': '@CubbyPau @mishacollins &lt;333333 #DestielAnniversary #TheirLoveWasReal', 'source': '<a href=\"http://twitter.com/download/android\" rel=\"nofollow\">Twitter for Android</a>', '\\n            \"user\": {\\n                \"id\": tweet_user_id,\\n                \"name\": tweet_user_name,\\n                \"location\": tweet_user_location,\\n                \"url\": tweet_user_url,\\n                \"description\": tweet_user_description,\\n                \"verified\": tweet_user_verified,\\n                \"followers_count\": tweet_user_follower_count,\\n                \"friends_count\": tweet_user_friends_count,\\n                \"favourites_count\": tweet_user_favourites_count,\\n                \"statuses_count\": tweet_user_statuses_count,\\n                \"created_at\": tweet_user_created_at,\\n                \"utc_offset\": tweet_user_utc_offset,\\n                \"time_zone\": tweet_user_timezone,\\n                \"geo_enabled\": tweet_user_geo_enabled,\\n                \"lang\": tweet_user_language,\\n                },\\n            lang': 'und', 'timestamp_ms': '1636150793662'}\n",
      "{'_id': ObjectId('646e81ed8dc9435887e053ea'), 'created_at': 'Sun Nov 07 02:50:01 +0000 2021', 'text': '@Alex8Calvert @mishacollins https://t.co/oyp9E7m7TN', 'source': '<a href=\"https://zlappo.com\" rel=\"nofollow\">Zlappo.com</a>', '\\n            \"user\": {\\n                \"id\": tweet_user_id,\\n                \"name\": tweet_user_name,\\n                \"location\": tweet_user_location,\\n                \"url\": tweet_user_url,\\n                \"description\": tweet_user_description,\\n                \"verified\": tweet_user_verified,\\n                \"followers_count\": tweet_user_follower_count,\\n                \"friends_count\": tweet_user_friends_count,\\n                \"favourites_count\": tweet_user_favourites_count,\\n                \"statuses_count\": tweet_user_statuses_count,\\n                \"created_at\": tweet_user_created_at,\\n                \"utc_offset\": tweet_user_utc_offset,\\n                \"time_zone\": tweet_user_timezone,\\n                \"geo_enabled\": tweet_user_geo_enabled,\\n                \"lang\": tweet_user_language,\\n                },\\n            lang': 'und', 'timestamp_ms': '1636253401657'}\n",
      "{'_id': ObjectId('646e81ed8dc9435887e053ee'), 'created_at': 'Sun Nov 07 10:26:05 +0000 2021', 'text': '@DimitriTheSimp @mishacollins @mishacollins', 'source': '<a href=\"http://twitter.com/download/iphone\" rel=\"nofollow\">Twitter for iPhone</a>', '\\n            \"user\": {\\n                \"id\": tweet_user_id,\\n                \"name\": tweet_user_name,\\n                \"location\": tweet_user_location,\\n                \"url\": tweet_user_url,\\n                \"description\": tweet_user_description,\\n                \"verified\": tweet_user_verified,\\n                \"followers_count\": tweet_user_follower_count,\\n                \"friends_count\": tweet_user_friends_count,\\n                \"favourites_count\": tweet_user_favourites_count,\\n                \"statuses_count\": tweet_user_statuses_count,\\n                \"created_at\": tweet_user_created_at,\\n                \"utc_offset\": tweet_user_utc_offset,\\n                \"time_zone\": tweet_user_timezone,\\n                \"geo_enabled\": tweet_user_geo_enabled,\\n                \"lang\": tweet_user_language,\\n                },\\n            lang': 'und', 'timestamp_ms': '1636280765666'}\n",
      "{'_id': ObjectId('646e81ed8dc9435887e05405'), 'created_at': 'Mon Nov 08 18:41:02 +0000 2021', 'text': '@JensenAckles @mishacollins @rthompson1138 @DanneelHarris', 'source': '<a href=\"http://twitter.com/download/android\" rel=\"nofollow\">Twitter for Android</a>', '\\n            \"user\": {\\n                \"id\": tweet_user_id,\\n                \"name\": tweet_user_name,\\n                \"location\": tweet_user_location,\\n                \"url\": tweet_user_url,\\n                \"description\": tweet_user_description,\\n                \"verified\": tweet_user_verified,\\n                \"followers_count\": tweet_user_follower_count,\\n                \"friends_count\": tweet_user_friends_count,\\n                \"favourites_count\": tweet_user_favourites_count,\\n                \"statuses_count\": tweet_user_statuses_count,\\n                \"created_at\": tweet_user_created_at,\\n                \"utc_offset\": tweet_user_utc_offset,\\n                \"time_zone\": tweet_user_timezone,\\n                \"geo_enabled\": tweet_user_geo_enabled,\\n                \"lang\": tweet_user_language,\\n                },\\n            lang': 'und', 'timestamp_ms': '1636396862663'}\n",
      "{'_id': ObjectId('646e81ed8dc9435887e05407'), 'created_at': 'Mon Nov 08 19:52:50 +0000 2021', 'text': 'RT @RuthieConnell: ❤️🙌🏻 @mishacollins', 'source': '<a href=\"http://twitter.com/download/android\" rel=\"nofollow\">Twitter for Android</a>', '\\n            \"user\": {\\n                \"id\": tweet_user_id,\\n                \"name\": tweet_user_name,\\n                \"location\": tweet_user_location,\\n                \"url\": tweet_user_url,\\n                \"description\": tweet_user_description,\\n                \"verified\": tweet_user_verified,\\n                \"followers_count\": tweet_user_follower_count,\\n                \"friends_count\": tweet_user_friends_count,\\n                \"favourites_count\": tweet_user_favourites_count,\\n                \"statuses_count\": tweet_user_statuses_count,\\n                \"created_at\": tweet_user_created_at,\\n                \"utc_offset\": tweet_user_utc_offset,\\n                \"time_zone\": tweet_user_timezone,\\n                \"geo_enabled\": tweet_user_geo_enabled,\\n                \"lang\": tweet_user_language,\\n                },\\n            lang': 'und', 'timestamp_ms': '1636401170666'}\n",
      "{'_id': ObjectId('646e81ed8dc9435887e05408'), 'created_at': 'Mon Nov 08 19:55:47 +0000 2021', 'text': 'RT @RuthieConnell: ❤️🙌🏻 @mishacollins', 'source': '<a href=\"http://twitter.com/download/android\" rel=\"nofollow\">Twitter for Android</a>', '\\n            \"user\": {\\n                \"id\": tweet_user_id,\\n                \"name\": tweet_user_name,\\n                \"location\": tweet_user_location,\\n                \"url\": tweet_user_url,\\n                \"description\": tweet_user_description,\\n                \"verified\": tweet_user_verified,\\n                \"followers_count\": tweet_user_follower_count,\\n                \"friends_count\": tweet_user_friends_count,\\n                \"favourites_count\": tweet_user_favourites_count,\\n                \"statuses_count\": tweet_user_statuses_count,\\n                \"created_at\": tweet_user_created_at,\\n                \"utc_offset\": tweet_user_utc_offset,\\n                \"time_zone\": tweet_user_timezone,\\n                \"geo_enabled\": tweet_user_geo_enabled,\\n                \"lang\": tweet_user_language,\\n                },\\n            lang': 'und', 'timestamp_ms': '1636401347661'}\n",
      "{'_id': ObjectId('646e81ed8dc9435887e05442'), 'created_at': 'Wed Nov 10 21:58:31 +0000 2021', 'text': '@purehroines @mishacollins @mishacollins', 'source': '<a href=\"http://twitter.com/download/android\" rel=\"nofollow\">Twitter for Android</a>', '\\n            \"user\": {\\n                \"id\": tweet_user_id,\\n                \"name\": tweet_user_name,\\n                \"location\": tweet_user_location,\\n                \"url\": tweet_user_url,\\n                \"description\": tweet_user_description,\\n                \"verified\": tweet_user_verified,\\n                \"followers_count\": tweet_user_follower_count,\\n                \"friends_count\": tweet_user_friends_count,\\n                \"favourites_count\": tweet_user_favourites_count,\\n                \"statuses_count\": tweet_user_statuses_count,\\n                \"created_at\": tweet_user_created_at,\\n                \"utc_offset\": tweet_user_utc_offset,\\n                \"time_zone\": tweet_user_timezone,\\n                \"geo_enabled\": tweet_user_geo_enabled,\\n                \"lang\": tweet_user_language,\\n                },\\n            lang': 'und', 'timestamp_ms': '1636581511657'}\n",
      "{'_id': ObjectId('646e81ed8dc9435887e05445'), 'created_at': 'Thu Nov 11 01:52:20 +0000 2021', 'text': '@jolauriang @caslostwings @mishacollins ?!1?1?1?1', 'source': '<a href=\"http://twitter.com/download/iphone\" rel=\"nofollow\">Twitter for iPhone</a>', '\\n            \"user\": {\\n                \"id\": tweet_user_id,\\n                \"name\": tweet_user_name,\\n                \"location\": tweet_user_location,\\n                \"url\": tweet_user_url,\\n                \"description\": tweet_user_description,\\n                \"verified\": tweet_user_verified,\\n                \"followers_count\": tweet_user_follower_count,\\n                \"friends_count\": tweet_user_friends_count,\\n                \"favourites_count\": tweet_user_favourites_count,\\n                \"statuses_count\": tweet_user_statuses_count,\\n                \"created_at\": tweet_user_created_at,\\n                \"utc_offset\": tweet_user_utc_offset,\\n                \"time_zone\": tweet_user_timezone,\\n                \"geo_enabled\": tweet_user_geo_enabled,\\n                \"lang\": tweet_user_language,\\n                },\\n            lang': 'und', 'timestamp_ms': '1636595540660'}\n",
      "{'_id': ObjectId('646e81ed8dc9435887e05467'), 'created_at': 'Sat Nov 13 21:05:01 +0000 2021', 'text': '@mishacollins @JensenAckles @jarpad https://t.co/uKPcOX01LB', 'source': '<a href=\"https://zlappo.com\" rel=\"nofollow\">Zlappo.com</a>', '\\n            \"user\": {\\n                \"id\": tweet_user_id,\\n                \"name\": tweet_user_name,\\n                \"location\": tweet_user_location,\\n                \"url\": tweet_user_url,\\n                \"description\": tweet_user_description,\\n                \"verified\": tweet_user_verified,\\n                \"followers_count\": tweet_user_follower_count,\\n                \"friends_count\": tweet_user_friends_count,\\n                \"favourites_count\": tweet_user_favourites_count,\\n                \"statuses_count\": tweet_user_statuses_count,\\n                \"created_at\": tweet_user_created_at,\\n                \"utc_offset\": tweet_user_utc_offset,\\n                \"time_zone\": tweet_user_timezone,\\n                \"geo_enabled\": tweet_user_geo_enabled,\\n                \"lang\": tweet_user_language,\\n                },\\n            lang': 'und', 'timestamp_ms': '1636837501660'}\n",
      "{'_id': ObjectId('646e81ed8dc9435887e0546f'), 'created_at': 'Sun Nov 14 21:40:02 +0000 2021', 'text': '@Alex8Calvert @mishacollins https://t.co/lohkU2ofYD', 'source': '<a href=\"https://zlappo.com\" rel=\"nofollow\">Zlappo.com</a>', '\\n            \"user\": {\\n                \"id\": tweet_user_id,\\n                \"name\": tweet_user_name,\\n                \"location\": tweet_user_location,\\n                \"url\": tweet_user_url,\\n                \"description\": tweet_user_description,\\n                \"verified\": tweet_user_verified,\\n                \"followers_count\": tweet_user_follower_count,\\n                \"friends_count\": tweet_user_friends_count,\\n                \"favourites_count\": tweet_user_favourites_count,\\n                \"statuses_count\": tweet_user_statuses_count,\\n                \"created_at\": tweet_user_created_at,\\n                \"utc_offset\": tweet_user_utc_offset,\\n                \"time_zone\": tweet_user_timezone,\\n                \"geo_enabled\": tweet_user_geo_enabled,\\n                \"lang\": tweet_user_language,\\n                },\\n            lang': 'und', 'timestamp_ms': '1636926002660'}\n",
      "{'_id': ObjectId('646e81ed8dc9435887e05471'), 'created_at': 'Sun Nov 14 23:00:01 +0000 2021', 'text': '@mishacollins @JensenAckles https://t.co/M5UQxUlUHE', 'source': '<a href=\"https://zlappo.com\" rel=\"nofollow\">Zlappo.com</a>', '\\n            \"user\": {\\n                \"id\": tweet_user_id,\\n                \"name\": tweet_user_name,\\n                \"location\": tweet_user_location,\\n                \"url\": tweet_user_url,\\n                \"description\": tweet_user_description,\\n                \"verified\": tweet_user_verified,\\n                \"followers_count\": tweet_user_follower_count,\\n                \"friends_count\": tweet_user_friends_count,\\n                \"favourites_count\": tweet_user_favourites_count,\\n                \"statuses_count\": tweet_user_statuses_count,\\n                \"created_at\": tweet_user_created_at,\\n                \"utc_offset\": tweet_user_utc_offset,\\n                \"time_zone\": tweet_user_timezone,\\n                \"geo_enabled\": tweet_user_geo_enabled,\\n                \"lang\": tweet_user_language,\\n                },\\n            lang': 'und', 'timestamp_ms': '1636930801666'}\n",
      "{'_id': ObjectId('646e81ed8dc9435887e0547c'), 'created_at': 'Mon Nov 15 22:27:49 +0000 2021', 'text': '@mishacollins Hi', 'source': '<a href=\"http://twitter.com/download/iphone\" rel=\"nofollow\">Twitter for iPhone</a>', '\\n            \"user\": {\\n                \"id\": tweet_user_id,\\n                \"name\": tweet_user_name,\\n                \"location\": tweet_user_location,\\n                \"url\": tweet_user_url,\\n                \"description\": tweet_user_description,\\n                \"verified\": tweet_user_verified,\\n                \"followers_count\": tweet_user_follower_count,\\n                \"friends_count\": tweet_user_friends_count,\\n                \"favourites_count\": tweet_user_favourites_count,\\n                \"statuses_count\": tweet_user_statuses_count,\\n                \"created_at\": tweet_user_created_at,\\n                \"utc_offset\": tweet_user_utc_offset,\\n                \"time_zone\": tweet_user_timezone,\\n                \"geo_enabled\": tweet_user_geo_enabled,\\n                \"lang\": tweet_user_language,\\n                },\\n            lang': 'und', 'timestamp_ms': '1637015269663'}\n",
      "{'_id': ObjectId('646e81ed8dc9435887e05483'), 'created_at': 'Mon Nov 15 23:15:12 +0000 2021', 'text': '@honeyedTFW @mishacollins 🤣🤣🤣', 'source': '<a href=\"http://twitter.com/download/android\" rel=\"nofollow\">Twitter for Android</a>', '\\n            \"user\": {\\n                \"id\": tweet_user_id,\\n                \"name\": tweet_user_name,\\n                \"location\": tweet_user_location,\\n                \"url\": tweet_user_url,\\n                \"description\": tweet_user_description,\\n                \"verified\": tweet_user_verified,\\n                \"followers_count\": tweet_user_follower_count,\\n                \"friends_count\": tweet_user_friends_count,\\n                \"favourites_count\": tweet_user_favourites_count,\\n                \"statuses_count\": tweet_user_statuses_count,\\n                \"created_at\": tweet_user_created_at,\\n                \"utc_offset\": tweet_user_utc_offset,\\n                \"time_zone\": tweet_user_timezone,\\n                \"geo_enabled\": tweet_user_geo_enabled,\\n                \"lang\": tweet_user_language,\\n                },\\n            lang': 'und', 'timestamp_ms': '1637018112659'}\n",
      "{'_id': ObjectId('646e81ed8dc9435887e05484'), 'created_at': 'Mon Nov 15 23:22:13 +0000 2021', 'text': '@the1989_ @DustyLCanon @mishacollins https://t.co/a3iIE1S4AD', 'source': '<a href=\"http://twitter.com/download/android\" rel=\"nofollow\">Twitter for Android</a>', '\\n            \"user\": {\\n                \"id\": tweet_user_id,\\n                \"name\": tweet_user_name,\\n                \"location\": tweet_user_location,\\n                \"url\": tweet_user_url,\\n                \"description\": tweet_user_description,\\n                \"verified\": tweet_user_verified,\\n                \"followers_count\": tweet_user_follower_count,\\n                \"friends_count\": tweet_user_friends_count,\\n                \"favourites_count\": tweet_user_favourites_count,\\n                \"statuses_count\": tweet_user_statuses_count,\\n                \"created_at\": tweet_user_created_at,\\n                \"utc_offset\": tweet_user_utc_offset,\\n                \"time_zone\": tweet_user_timezone,\\n                \"geo_enabled\": tweet_user_geo_enabled,\\n                \"lang\": tweet_user_language,\\n                },\\n            lang': 'und', 'timestamp_ms': '1637018533664'}\n",
      "{'_id': ObjectId('646e81ed8dc9435887e054a5'), 'created_at': 'Wed Nov 17 21:15:26 +0000 2021', 'text': 'RT @MarkRPellegrino: \\u2066@jarpad\\u2069  \\u2066@JensenAckles\\u2069  \\u2066@mishacollins\\u2069 #ReadtoFeed https://t.co/zF3G5TSc8O', 'source': '<a href=\"http://twitter.com/download/iphone\" rel=\"nofollow\">Twitter for iPhone</a>', '\\n            \"user\": {\\n                \"id\": tweet_user_id,\\n                \"name\": tweet_user_name,\\n                \"location\": tweet_user_location,\\n                \"url\": tweet_user_url,\\n                \"description\": tweet_user_description,\\n                \"verified\": tweet_user_verified,\\n                \"followers_count\": tweet_user_follower_count,\\n                \"friends_count\": tweet_user_friends_count,\\n                \"favourites_count\": tweet_user_favourites_count,\\n                \"statuses_count\": tweet_user_statuses_count,\\n                \"created_at\": tweet_user_created_at,\\n                \"utc_offset\": tweet_user_utc_offset,\\n                \"time_zone\": tweet_user_timezone,\\n                \"geo_enabled\": tweet_user_geo_enabled,\\n                \"lang\": tweet_user_language,\\n                },\\n            lang': 'und', 'timestamp_ms': '1637183726664'}\n",
      "{'_id': ObjectId('646e81ed8dc9435887e054b2'), 'created_at': 'Thu Nov 18 22:08:53 +0000 2021', 'text': '@FriendsofRA_NYC @Roadfood123 @RandomActsOrg @mishacollins ❤❤❤', 'source': '<a href=\"http://twitter.com/download/android\" rel=\"nofollow\">Twitter for Android</a>', '\\n            \"user\": {\\n                \"id\": tweet_user_id,\\n                \"name\": tweet_user_name,\\n                \"location\": tweet_user_location,\\n                \"url\": tweet_user_url,\\n                \"description\": tweet_user_description,\\n                \"verified\": tweet_user_verified,\\n                \"followers_count\": tweet_user_follower_count,\\n                \"friends_count\": tweet_user_friends_count,\\n                \"favourites_count\": tweet_user_favourites_count,\\n                \"statuses_count\": tweet_user_statuses_count,\\n                \"created_at\": tweet_user_created_at,\\n                \"utc_offset\": tweet_user_utc_offset,\\n                \"time_zone\": tweet_user_timezone,\\n                \"geo_enabled\": tweet_user_geo_enabled,\\n                \"lang\": tweet_user_language,\\n                },\\n            lang': 'und', 'timestamp_ms': '1637273333661'}\n",
      "{'_id': ObjectId('646e81ed8dc9435887e054ca'), 'created_at': 'Sat Nov 20 02:28:53 +0000 2021', 'text': '@Droopy1020 @mishacollins Yesss!! 💯', 'source': '<a href=\"http://twitter.com/download/iphone\" rel=\"nofollow\">Twitter for iPhone</a>', '\\n            \"user\": {\\n                \"id\": tweet_user_id,\\n                \"name\": tweet_user_name,\\n                \"location\": tweet_user_location,\\n                \"url\": tweet_user_url,\\n                \"description\": tweet_user_description,\\n                \"verified\": tweet_user_verified,\\n                \"followers_count\": tweet_user_follower_count,\\n                \"friends_count\": tweet_user_friends_count,\\n                \"favourites_count\": tweet_user_favourites_count,\\n                \"statuses_count\": tweet_user_statuses_count,\\n                \"created_at\": tweet_user_created_at,\\n                \"utc_offset\": tweet_user_utc_offset,\\n                \"time_zone\": tweet_user_timezone,\\n                \"geo_enabled\": tweet_user_geo_enabled,\\n                \"lang\": tweet_user_language,\\n                },\\n            lang': 'und', 'timestamp_ms': '1637375333663'}\n",
      "{'_id': ObjectId('646e81ed8dc9435887e054e8'), 'created_at': 'Sun Nov 21 03:39:00 +0000 2021', 'text': 'RT @kerryanneg9: @wayward_sister9 @tonywagner25 @mishacollins @JensenAckles https://t.co/lEMcHjyCS9', 'source': '<a href=\"https://mobile.twitter.com\" rel=\"nofollow\">Twitter Web App</a>', '\\n            \"user\": {\\n                \"id\": tweet_user_id,\\n                \"name\": tweet_user_name,\\n                \"location\": tweet_user_location,\\n                \"url\": tweet_user_url,\\n                \"description\": tweet_user_description,\\n                \"verified\": tweet_user_verified,\\n                \"followers_count\": tweet_user_follower_count,\\n                \"friends_count\": tweet_user_friends_count,\\n                \"favourites_count\": tweet_user_favourites_count,\\n                \"statuses_count\": tweet_user_statuses_count,\\n                \"created_at\": tweet_user_created_at,\\n                \"utc_offset\": tweet_user_utc_offset,\\n                \"time_zone\": tweet_user_timezone,\\n                \"geo_enabled\": tweet_user_geo_enabled,\\n                \"lang\": tweet_user_language,\\n                },\\n            lang': 'und', 'timestamp_ms': '1637465940661'}\n",
      "{'_id': ObjectId('646e81ed8dc9435887e054e9'), 'created_at': 'Sun Nov 21 04:24:16 +0000 2021', 'text': '@artbyiliana @mishacollins 👀🤩', 'source': '<a href=\"http://twitter.com/download/iphone\" rel=\"nofollow\">Twitter for iPhone</a>', '\\n            \"user\": {\\n                \"id\": tweet_user_id,\\n                \"name\": tweet_user_name,\\n                \"location\": tweet_user_location,\\n                \"url\": tweet_user_url,\\n                \"description\": tweet_user_description,\\n                \"verified\": tweet_user_verified,\\n                \"followers_count\": tweet_user_follower_count,\\n                \"friends_count\": tweet_user_friends_count,\\n                \"favourites_count\": tweet_user_favourites_count,\\n                \"statuses_count\": tweet_user_statuses_count,\\n                \"created_at\": tweet_user_created_at,\\n                \"utc_offset\": tweet_user_utc_offset,\\n                \"time_zone\": tweet_user_timezone,\\n                \"geo_enabled\": tweet_user_geo_enabled,\\n                \"lang\": tweet_user_language,\\n                },\\n            lang': 'und', 'timestamp_ms': '1637468656659'}\n",
      "{'_id': ObjectId('646e81ed8dc9435887e054f4'), 'created_at': 'Sun Nov 21 14:00:52 +0000 2021', 'text': 'RT @mishacollins: https://t.co/h0tUCllALn\\n\\n#SomeThingsIStillCantTellYou', 'source': '<a href=\"http://twitter.com/download/android\" rel=\"nofollow\">Twitter for Android</a>', '\\n            \"user\": {\\n                \"id\": tweet_user_id,\\n                \"name\": tweet_user_name,\\n                \"location\": tweet_user_location,\\n                \"url\": tweet_user_url,\\n                \"description\": tweet_user_description,\\n                \"verified\": tweet_user_verified,\\n                \"followers_count\": tweet_user_follower_count,\\n                \"friends_count\": tweet_user_friends_count,\\n                \"favourites_count\": tweet_user_favourites_count,\\n                \"statuses_count\": tweet_user_statuses_count,\\n                \"created_at\": tweet_user_created_at,\\n                \"utc_offset\": tweet_user_utc_offset,\\n                \"time_zone\": tweet_user_timezone,\\n                \"geo_enabled\": tweet_user_geo_enabled,\\n                \"lang\": tweet_user_language,\\n                },\\n            lang': 'und', 'timestamp_ms': '1637503252660'}\n",
      "{'_id': ObjectId('646e81ed8dc9435887e0550f'), 'created_at': 'Tue Nov 23 21:56:35 +0000 2021', 'text': '@Debora66553927 @jarpad @JensenAckles @mishacollins @Mark_Sheppard @sebroche @mattcohen4real @OsricChau @RuthieConnell @MarkRPellegrino @RobBenedict @FangasmSPN https://t.co/UJqbC7AOqw', 'source': '<a href=\"http://twitter.com/download/iphone\" rel=\"nofollow\">Twitter for iPhone</a>', '\\n            \"user\": {\\n                \"id\": tweet_user_id,\\n                \"name\": tweet_user_name,\\n                \"location\": tweet_user_location,\\n                \"url\": tweet_user_url,\\n                \"description\": tweet_user_description,\\n                \"verified\": tweet_user_verified,\\n                \"followers_count\": tweet_user_follower_count,\\n                \"friends_count\": tweet_user_friends_count,\\n                \"favourites_count\": tweet_user_favourites_count,\\n                \"statuses_count\": tweet_user_statuses_count,\\n                \"created_at\": tweet_user_created_at,\\n                \"utc_offset\": tweet_user_utc_offset,\\n                \"time_zone\": tweet_user_timezone,\\n                \"geo_enabled\": tweet_user_geo_enabled,\\n                \"lang\": tweet_user_language,\\n                },\\n            lang': 'und', 'timestamp_ms': '1637704595666'}\n",
      "{'_id': ObjectId('646e81ed8dc9435887e0551e'), 'created_at': 'Thu Nov 25 14:40:16 +0000 2021', 'text': '@casscxllins @strandbookstore @mishacollins @mishacollins \\n@mishacollins \\n@mishacollins \\n@mishacollins', 'source': '<a href=\"http://twitter.com/download/android\" rel=\"nofollow\">Twitter for Android</a>', '\\n            \"user\": {\\n                \"id\": tweet_user_id,\\n                \"name\": tweet_user_name,\\n                \"location\": tweet_user_location,\\n                \"url\": tweet_user_url,\\n                \"description\": tweet_user_description,\\n                \"verified\": tweet_user_verified,\\n                \"followers_count\": tweet_user_follower_count,\\n                \"friends_count\": tweet_user_friends_count,\\n                \"favourites_count\": tweet_user_favourites_count,\\n                \"statuses_count\": tweet_user_statuses_count,\\n                \"created_at\": tweet_user_created_at,\\n                \"utc_offset\": tweet_user_utc_offset,\\n                \"time_zone\": tweet_user_timezone,\\n                \"geo_enabled\": tweet_user_geo_enabled,\\n                \"lang\": tweet_user_language,\\n                },\\n            lang': 'und', 'timestamp_ms': '1637851216658'}\n",
      "{'_id': ObjectId('646e81ed8dc9435887e05531'), 'created_at': 'Sat Nov 27 01:50:01 +0000 2021', 'text': '@mishacollins @JensenAckles @jarpad https://t.co/NwblXVWbMz', 'source': '<a href=\"https://zlappo.com\" rel=\"nofollow\">Zlappo.com</a>', '\\n            \"user\": {\\n                \"id\": tweet_user_id,\\n                \"name\": tweet_user_name,\\n                \"location\": tweet_user_location,\\n                \"url\": tweet_user_url,\\n                \"description\": tweet_user_description,\\n                \"verified\": tweet_user_verified,\\n                \"followers_count\": tweet_user_follower_count,\\n                \"friends_count\": tweet_user_friends_count,\\n                \"favourites_count\": tweet_user_favourites_count,\\n                \"statuses_count\": tweet_user_statuses_count,\\n                \"created_at\": tweet_user_created_at,\\n                \"utc_offset\": tweet_user_utc_offset,\\n                \"time_zone\": tweet_user_timezone,\\n                \"geo_enabled\": tweet_user_geo_enabled,\\n                \"lang\": tweet_user_language,\\n                },\\n            lang': 'und', 'timestamp_ms': '1637977801659'}\n",
      "{'_id': ObjectId('646e81ed8dc9435887e05543'), 'created_at': 'Sun Nov 28 08:00:00 +0000 2021', 'text': 'RT @Tawrens: @BetteMidler @BettyBowers @HamillHimself @russellhoward @WilliamdeVry1 @NancyLeeGrahn @RBReich @robreiner @mishacollins @jumbl…', 'source': '<a href=\"https://mobile.twitter.com\" rel=\"nofollow\">Twitter Web App</a>', '\\n            \"user\": {\\n                \"id\": tweet_user_id,\\n                \"name\": tweet_user_name,\\n                \"location\": tweet_user_location,\\n                \"url\": tweet_user_url,\\n                \"description\": tweet_user_description,\\n                \"verified\": tweet_user_verified,\\n                \"followers_count\": tweet_user_follower_count,\\n                \"friends_count\": tweet_user_friends_count,\\n                \"favourites_count\": tweet_user_favourites_count,\\n                \"statuses_count\": tweet_user_statuses_count,\\n                \"created_at\": tweet_user_created_at,\\n                \"utc_offset\": tweet_user_utc_offset,\\n                \"time_zone\": tweet_user_timezone,\\n                \"geo_enabled\": tweet_user_geo_enabled,\\n                \"lang\": tweet_user_language,\\n                },\\n            lang': 'und', 'timestamp_ms': '1638086400658'}\n",
      "{'_id': ObjectId('646e81ed8dc9435887e05554'), 'created_at': 'Mon Nov 29 22:20:00 +0000 2021', 'text': '@mishacollins @Alex8Calvert https://t.co/K7prSUY8Y0', 'source': '<a href=\"https://zlappo.com\" rel=\"nofollow\">Zlappo.com</a>', '\\n            \"user\": {\\n                \"id\": tweet_user_id,\\n                \"name\": tweet_user_name,\\n                \"location\": tweet_user_location,\\n                \"url\": tweet_user_url,\\n                \"description\": tweet_user_description,\\n                \"verified\": tweet_user_verified,\\n                \"followers_count\": tweet_user_follower_count,\\n                \"friends_count\": tweet_user_friends_count,\\n                \"favourites_count\": tweet_user_favourites_count,\\n                \"statuses_count\": tweet_user_statuses_count,\\n                \"created_at\": tweet_user_created_at,\\n                \"utc_offset\": tweet_user_utc_offset,\\n                \"time_zone\": tweet_user_timezone,\\n                \"geo_enabled\": tweet_user_geo_enabled,\\n                \"lang\": tweet_user_language,\\n                },\\n            lang': 'und', 'timestamp_ms': '1638224400662'}\n"
     ]
    }
   ],
   "source": [
    "for i in res:\n",
    "    print(i)"
   ]
  },
  {
   "cell_type": "code",
   "execution_count": 34,
   "id": "a7275eb6",
   "metadata": {},
   "outputs": [],
   "source": [
    "lang_label = '\\n            \"user\": {\\n                \"id\": tweet_user_id,\\n                \"name\": tweet_user_name,\\n                \"location\": tweet_user_location,\\n                \"url\": tweet_user_url,\\n                \"description\": tweet_user_description,\\n                \"verified\": tweet_user_verified,\\n                \"followers_count\": tweet_user_follower_count,\\n                \"friends_count\": tweet_user_friends_count,\\n                \"favourites_count\": tweet_user_favourites_count,\\n                \"statuses_count\": tweet_user_statuses_count,\\n                \"created_at\": tweet_user_created_at,\\n                \"utc_offset\": tweet_user_utc_offset,\\n                \"time_zone\": tweet_user_timezone,\\n                \"geo_enabled\": tweet_user_geo_enabled,\\n                \"lang\": tweet_user_language,\\n                },\\n            lang'"
   ]
  },
  {
   "cell_type": "code",
   "execution_count": 45,
   "id": "1896f2b0",
   "metadata": {},
   "outputs": [],
   "source": [
    "from pprint import pprint"
   ]
  },
  {
   "cell_type": "code",
   "execution_count": 48,
   "id": "b29cca7e",
   "metadata": {},
   "outputs": [
    {
     "name": "stdout",
     "output_type": "stream",
     "text": [
      "{'_id': ObjectId('646e81ed8dc9435887e05356'),\n",
      " 'text': 'RT @mishacollins: Rough day...\\n'\n",
      "         '\\n'\n",
      "         '@vic_righthand https://t.co/mLb7qNgnEi',\n",
      " 'timestamp_ms': '1635736789661'}\n",
      "{'_id': ObjectId('646e81ed8dc9435887e05357'),\n",
      " 'text': 'RT @mishacollins: Rough day...\\n'\n",
      "         '\\n'\n",
      "         '@vic_righthand https://t.co/mLb7qNgnEi',\n",
      " 'timestamp_ms': '1635736790663'}\n",
      "{'_id': ObjectId('646e81ed8dc9435887e05358'),\n",
      " 'text': '@mishacollins @vic_righthand I’m contacting my law team',\n",
      " 'timestamp_ms': '1635736834658'}\n",
      "{'_id': ObjectId('646e81ed8dc9435887e05359'),\n",
      " 'text': '@mishacollins @vic_righthand uh. i mean. lookin’ good. ☺️👍🏻',\n",
      " 'timestamp_ms': '1635736848665'}\n",
      "{'_id': ObjectId('646e81ed8dc9435887e0535a'),\n",
      " 'text': '@mishacollins @vic_righthand bro me',\n",
      " 'timestamp_ms': '1635736985666'}\n",
      "{'_id': ObjectId('646e81ed8dc9435887e0535b'),\n",
      " 'text': 'RT @SoldierTheBoys: two pretty best friends\\n'\n",
      "         '@JensenAckles @mishacollins https://t.co/h1C3wTaHJw',\n",
      " 'timestamp_ms': '1635737111660'}\n"
     ]
    }
   ],
   "source": [
    "res = coll.find({lang_label:'en'}, {'timestamp_ms':1, 'text':1}).limit(6)\n",
    "for i in res:\n",
    "    pprint(i)"
   ]
  },
  {
   "cell_type": "code",
   "execution_count": 49,
   "id": "671bbd29",
   "metadata": {},
   "outputs": [
    {
     "name": "stderr",
     "output_type": "stream",
     "text": [
      "/tmp/ipykernel_5128/797345612.py:1: DeprecationWarning: count is deprecated. Use Collection.count_documents instead.\n",
      "  res.count()\n"
     ]
    },
    {
     "data": {
      "text/plain": [
       "474"
      ]
     },
     "execution_count": 49,
     "metadata": {},
     "output_type": "execute_result"
    }
   ],
   "source": [
    "res.count()"
   ]
  },
  {
   "cell_type": "code",
   "execution_count": 39,
   "id": "b1d78edd",
   "metadata": {},
   "outputs": [],
   "source": [
    "import pandas as pd"
   ]
  },
  {
   "cell_type": "code",
   "execution_count": 54,
   "id": "a40873e8",
   "metadata": {},
   "outputs": [
    {
     "data": {
      "text/html": [
       "<div>\n",
       "<style scoped>\n",
       "    .dataframe tbody tr th:only-of-type {\n",
       "        vertical-align: middle;\n",
       "    }\n",
       "\n",
       "    .dataframe tbody tr th {\n",
       "        vertical-align: top;\n",
       "    }\n",
       "\n",
       "    .dataframe thead th {\n",
       "        text-align: right;\n",
       "    }\n",
       "</style>\n",
       "<table border=\"1\" class=\"dataframe\">\n",
       "  <thead>\n",
       "    <tr style=\"text-align: right;\">\n",
       "      <th></th>\n",
       "      <th>_id</th>\n",
       "      <th>text</th>\n",
       "      <th>timestamp_ms</th>\n",
       "    </tr>\n",
       "  </thead>\n",
       "  <tbody>\n",
       "    <tr>\n",
       "      <th>0</th>\n",
       "      <td>646e81ed8dc9435887e05356</td>\n",
       "      <td>RT @mishacollins: Rough day...\\n\\n@vic_rightha...</td>\n",
       "      <td>1635736789661</td>\n",
       "    </tr>\n",
       "    <tr>\n",
       "      <th>1</th>\n",
       "      <td>646e81ed8dc9435887e05357</td>\n",
       "      <td>RT @mishacollins: Rough day...\\n\\n@vic_rightha...</td>\n",
       "      <td>1635736790663</td>\n",
       "    </tr>\n",
       "    <tr>\n",
       "      <th>2</th>\n",
       "      <td>646e81ed8dc9435887e05358</td>\n",
       "      <td>@mishacollins @vic_righthand I’m contacting my...</td>\n",
       "      <td>1635736834658</td>\n",
       "    </tr>\n",
       "    <tr>\n",
       "      <th>3</th>\n",
       "      <td>646e81ed8dc9435887e05359</td>\n",
       "      <td>@mishacollins @vic_righthand uh. i mean. looki...</td>\n",
       "      <td>1635736848665</td>\n",
       "    </tr>\n",
       "    <tr>\n",
       "      <th>4</th>\n",
       "      <td>646e81ed8dc9435887e0535a</td>\n",
       "      <td>@mishacollins @vic_righthand bro me</td>\n",
       "      <td>1635736985666</td>\n",
       "    </tr>\n",
       "    <tr>\n",
       "      <th>...</th>\n",
       "      <td>...</td>\n",
       "      <td>...</td>\n",
       "      <td>...</td>\n",
       "    </tr>\n",
       "    <tr>\n",
       "      <th>469</th>\n",
       "      <td>646e81ed8dc9435887e0555d</td>\n",
       "      <td>RT @CreationEnt: Jensen Ackles, Jared Padaleck...</td>\n",
       "      <td>1638308410664</td>\n",
       "    </tr>\n",
       "    <tr>\n",
       "      <th>470</th>\n",
       "      <td>646e81ed8dc9435887e0555e</td>\n",
       "      <td>RT @mishacollins: I know it’s late in the day ...</td>\n",
       "      <td>1638314324659</td>\n",
       "    </tr>\n",
       "    <tr>\n",
       "      <th>471</th>\n",
       "      <td>646e81ed8dc9435887e0555f</td>\n",
       "      <td>RT @mishacollins: I know it’s late in the day ...</td>\n",
       "      <td>1638314439658</td>\n",
       "    </tr>\n",
       "    <tr>\n",
       "      <th>472</th>\n",
       "      <td>646e81ed8dc9435887e05560</td>\n",
       "      <td>@mishacollins i love you king</td>\n",
       "      <td>1638314829661</td>\n",
       "    </tr>\n",
       "    <tr>\n",
       "      <th>473</th>\n",
       "      <td>646e81ed8dc9435887e05561</td>\n",
       "      <td>RT @mishacollins: I know it’s late in the day ...</td>\n",
       "      <td>1638315442665</td>\n",
       "    </tr>\n",
       "  </tbody>\n",
       "</table>\n",
       "<p>474 rows × 3 columns</p>\n",
       "</div>"
      ],
      "text/plain": [
       "                          _id   \n",
       "0    646e81ed8dc9435887e05356  \\\n",
       "1    646e81ed8dc9435887e05357   \n",
       "2    646e81ed8dc9435887e05358   \n",
       "3    646e81ed8dc9435887e05359   \n",
       "4    646e81ed8dc9435887e0535a   \n",
       "..                        ...   \n",
       "469  646e81ed8dc9435887e0555d   \n",
       "470  646e81ed8dc9435887e0555e   \n",
       "471  646e81ed8dc9435887e0555f   \n",
       "472  646e81ed8dc9435887e05560   \n",
       "473  646e81ed8dc9435887e05561   \n",
       "\n",
       "                                                  text   timestamp_ms  \n",
       "0    RT @mishacollins: Rough day...\\n\\n@vic_rightha...  1635736789661  \n",
       "1    RT @mishacollins: Rough day...\\n\\n@vic_rightha...  1635736790663  \n",
       "2    @mishacollins @vic_righthand I’m contacting my...  1635736834658  \n",
       "3    @mishacollins @vic_righthand uh. i mean. looki...  1635736848665  \n",
       "4                  @mishacollins @vic_righthand bro me  1635736985666  \n",
       "..                                                 ...            ...  \n",
       "469  RT @CreationEnt: Jensen Ackles, Jared Padaleck...  1638308410664  \n",
       "470  RT @mishacollins: I know it’s late in the day ...  1638314324659  \n",
       "471  RT @mishacollins: I know it’s late in the day ...  1638314439658  \n",
       "472                      @mishacollins i love you king  1638314829661  \n",
       "473  RT @mishacollins: I know it’s late in the day ...  1638315442665  \n",
       "\n",
       "[474 rows x 3 columns]"
      ]
     },
     "execution_count": 54,
     "metadata": {},
     "output_type": "execute_result"
    }
   ],
   "source": [
    "pd.DataFrame.from_dict(list(coll.find({lang_label:'en'}, {'timestamp_ms':1, 'text':1})))"
   ]
  },
  {
   "cell_type": "markdown",
   "id": "6edafaff",
   "metadata": {},
   "source": [
    "I could just stop here and go straight to my sentiment analysis code using this pandas df but I still need to involve spark somehow?"
   ]
  },
  {
   "cell_type": "code",
   "execution_count": 9,
   "id": "f15ceecf",
   "metadata": {},
   "outputs": [],
   "source": [
    "from pyspark.sql import SparkSession\n",
    "my_spark = SparkSession \\\n",
    "    .builder \\\n",
    "    .appName(\"myApp\") \\\n",
    "    .config(\"spark.mongodb.input.uri\", \"mongodb://127.0.0.1/MishaTweets\") \\\n",
    "    .config(\"spark.mongodb.output.uri\", \"mongodb://127.0.0.1/MishaTweets\") \\\n",
    "    .getOrCreate()"
   ]
  },
  {
   "cell_type": "code",
   "execution_count": 10,
   "id": "8950ead3",
   "metadata": {},
   "outputs": [
    {
     "ename": "Py4JJavaError",
     "evalue": "An error occurred while calling o60.load.\n: java.lang.ClassNotFoundException: \nFailed to find data source: mongodb. Please find packages at\nhttp://spark.apache.org/third-party-projects.html\n       \n\tat org.apache.spark.sql.errors.QueryExecutionErrors$.failedToFindDataSourceError(QueryExecutionErrors.scala:443)\n\tat org.apache.spark.sql.execution.datasources.DataSource$.lookupDataSource(DataSource.scala:670)\n\tat org.apache.spark.sql.execution.datasources.DataSource$.lookupDataSourceV2(DataSource.scala:720)\n\tat org.apache.spark.sql.DataFrameReader.load(DataFrameReader.scala:210)\n\tat org.apache.spark.sql.DataFrameReader.load(DataFrameReader.scala:174)\n\tat sun.reflect.NativeMethodAccessorImpl.invoke0(Native Method)\n\tat sun.reflect.NativeMethodAccessorImpl.invoke(NativeMethodAccessorImpl.java:62)\n\tat sun.reflect.DelegatingMethodAccessorImpl.invoke(DelegatingMethodAccessorImpl.java:43)\n\tat java.lang.reflect.Method.invoke(Method.java:498)\n\tat py4j.reflection.MethodInvoker.invoke(MethodInvoker.java:244)\n\tat py4j.reflection.ReflectionEngine.invoke(ReflectionEngine.java:357)\n\tat py4j.Gateway.invoke(Gateway.java:282)\n\tat py4j.commands.AbstractCommand.invokeMethod(AbstractCommand.java:132)\n\tat py4j.commands.CallCommand.execute(CallCommand.java:79)\n\tat py4j.ClientServerConnection.waitForCommands(ClientServerConnection.java:182)\n\tat py4j.ClientServerConnection.run(ClientServerConnection.java:106)\n\tat java.lang.Thread.run(Thread.java:750)\nCaused by: java.lang.ClassNotFoundException: mongodb.DefaultSource\n\tat java.net.URLClassLoader.findClass(URLClassLoader.java:387)\n\tat java.lang.ClassLoader.loadClass(ClassLoader.java:418)\n\tat java.lang.ClassLoader.loadClass(ClassLoader.java:351)\n\tat org.apache.spark.sql.execution.datasources.DataSource$.$anonfun$lookupDataSource$5(DataSource.scala:656)\n\tat scala.util.Try$.apply(Try.scala:213)\n\tat org.apache.spark.sql.execution.datasources.DataSource$.$anonfun$lookupDataSource$4(DataSource.scala:656)\n\tat scala.util.Failure.orElse(Try.scala:224)\n\tat org.apache.spark.sql.execution.datasources.DataSource$.lookupDataSource(DataSource.scala:656)\n\t... 15 more\n",
     "output_type": "error",
     "traceback": [
      "\u001b[0;31m---------------------------------------------------------------------------\u001b[0m",
      "\u001b[0;31mPy4JJavaError\u001b[0m                             Traceback (most recent call last)",
      "\u001b[0;32m/tmp/ipykernel_7037/3023543089.py\u001b[0m in \u001b[0;36m<module>\u001b[0;34m\u001b[0m\n\u001b[0;32m----> 1\u001b[0;31m \u001b[0mspark\u001b[0m\u001b[0;34m.\u001b[0m\u001b[0mread\u001b[0m\u001b[0;34m.\u001b[0m\u001b[0mformat\u001b[0m\u001b[0;34m(\u001b[0m\u001b[0;34m\"mongodb\"\u001b[0m\u001b[0;34m)\u001b[0m\u001b[0;34m.\u001b[0m\u001b[0moption\u001b[0m\u001b[0;34m(\u001b[0m\u001b[0;34m\"uri\"\u001b[0m\u001b[0;34m,\u001b[0m \u001b[0;34m\"mongodb://127.0.0.1/MishaTweets\"\u001b[0m\u001b[0;34m)\u001b[0m\u001b[0;34m.\u001b[0m\u001b[0mload\u001b[0m\u001b[0;34m(\u001b[0m\u001b[0;34m)\u001b[0m\u001b[0;34m\u001b[0m\u001b[0;34m\u001b[0m\u001b[0m\n\u001b[0m",
      "\u001b[0;32m/usr/local/spark/python/pyspark/sql/readwriter.py\u001b[0m in \u001b[0;36mload\u001b[0;34m(self, path, format, schema, **options)\u001b[0m\n\u001b[1;32m    162\u001b[0m             \u001b[0;32mreturn\u001b[0m \u001b[0mself\u001b[0m\u001b[0;34m.\u001b[0m\u001b[0m_df\u001b[0m\u001b[0;34m(\u001b[0m\u001b[0mself\u001b[0m\u001b[0;34m.\u001b[0m\u001b[0m_jreader\u001b[0m\u001b[0;34m.\u001b[0m\u001b[0mload\u001b[0m\u001b[0;34m(\u001b[0m\u001b[0mself\u001b[0m\u001b[0;34m.\u001b[0m\u001b[0m_spark\u001b[0m\u001b[0;34m.\u001b[0m\u001b[0m_sc\u001b[0m\u001b[0;34m.\u001b[0m\u001b[0m_jvm\u001b[0m\u001b[0;34m.\u001b[0m\u001b[0mPythonUtils\u001b[0m\u001b[0;34m.\u001b[0m\u001b[0mtoSeq\u001b[0m\u001b[0;34m(\u001b[0m\u001b[0mpath\u001b[0m\u001b[0;34m)\u001b[0m\u001b[0;34m)\u001b[0m\u001b[0;34m)\u001b[0m\u001b[0;34m\u001b[0m\u001b[0;34m\u001b[0m\u001b[0m\n\u001b[1;32m    163\u001b[0m         \u001b[0;32melse\u001b[0m\u001b[0;34m:\u001b[0m\u001b[0;34m\u001b[0m\u001b[0;34m\u001b[0m\u001b[0m\n\u001b[0;32m--> 164\u001b[0;31m             \u001b[0;32mreturn\u001b[0m \u001b[0mself\u001b[0m\u001b[0;34m.\u001b[0m\u001b[0m_df\u001b[0m\u001b[0;34m(\u001b[0m\u001b[0mself\u001b[0m\u001b[0;34m.\u001b[0m\u001b[0m_jreader\u001b[0m\u001b[0;34m.\u001b[0m\u001b[0mload\u001b[0m\u001b[0;34m(\u001b[0m\u001b[0;34m)\u001b[0m\u001b[0;34m)\u001b[0m\u001b[0;34m\u001b[0m\u001b[0;34m\u001b[0m\u001b[0m\n\u001b[0m\u001b[1;32m    165\u001b[0m \u001b[0;34m\u001b[0m\u001b[0m\n\u001b[1;32m    166\u001b[0m     def json(self, path, schema=None, primitivesAsString=None, prefersDecimal=None,\n",
      "\u001b[0;32m/usr/local/spark/python/lib/py4j-0.10.9.5-src.zip/py4j/java_gateway.py\u001b[0m in \u001b[0;36m__call__\u001b[0;34m(self, *args)\u001b[0m\n\u001b[1;32m   1319\u001b[0m \u001b[0;34m\u001b[0m\u001b[0m\n\u001b[1;32m   1320\u001b[0m         \u001b[0manswer\u001b[0m \u001b[0;34m=\u001b[0m \u001b[0mself\u001b[0m\u001b[0;34m.\u001b[0m\u001b[0mgateway_client\u001b[0m\u001b[0;34m.\u001b[0m\u001b[0msend_command\u001b[0m\u001b[0;34m(\u001b[0m\u001b[0mcommand\u001b[0m\u001b[0;34m)\u001b[0m\u001b[0;34m\u001b[0m\u001b[0;34m\u001b[0m\u001b[0m\n\u001b[0;32m-> 1321\u001b[0;31m         return_value = get_return_value(\n\u001b[0m\u001b[1;32m   1322\u001b[0m             answer, self.gateway_client, self.target_id, self.name)\n\u001b[1;32m   1323\u001b[0m \u001b[0;34m\u001b[0m\u001b[0m\n",
      "\u001b[0;32m/usr/local/spark/python/pyspark/sql/utils.py\u001b[0m in \u001b[0;36mdeco\u001b[0;34m(*a, **kw)\u001b[0m\n\u001b[1;32m    109\u001b[0m     \u001b[0;32mdef\u001b[0m \u001b[0mdeco\u001b[0m\u001b[0;34m(\u001b[0m\u001b[0;34m*\u001b[0m\u001b[0ma\u001b[0m\u001b[0;34m,\u001b[0m \u001b[0;34m**\u001b[0m\u001b[0mkw\u001b[0m\u001b[0;34m)\u001b[0m\u001b[0;34m:\u001b[0m\u001b[0;34m\u001b[0m\u001b[0;34m\u001b[0m\u001b[0m\n\u001b[1;32m    110\u001b[0m         \u001b[0;32mtry\u001b[0m\u001b[0;34m:\u001b[0m\u001b[0;34m\u001b[0m\u001b[0;34m\u001b[0m\u001b[0m\n\u001b[0;32m--> 111\u001b[0;31m             \u001b[0;32mreturn\u001b[0m \u001b[0mf\u001b[0m\u001b[0;34m(\u001b[0m\u001b[0;34m*\u001b[0m\u001b[0ma\u001b[0m\u001b[0;34m,\u001b[0m \u001b[0;34m**\u001b[0m\u001b[0mkw\u001b[0m\u001b[0;34m)\u001b[0m\u001b[0;34m\u001b[0m\u001b[0;34m\u001b[0m\u001b[0m\n\u001b[0m\u001b[1;32m    112\u001b[0m         \u001b[0;32mexcept\u001b[0m \u001b[0mpy4j\u001b[0m\u001b[0;34m.\u001b[0m\u001b[0mprotocol\u001b[0m\u001b[0;34m.\u001b[0m\u001b[0mPy4JJavaError\u001b[0m \u001b[0;32mas\u001b[0m \u001b[0me\u001b[0m\u001b[0;34m:\u001b[0m\u001b[0;34m\u001b[0m\u001b[0;34m\u001b[0m\u001b[0m\n\u001b[1;32m    113\u001b[0m             \u001b[0mconverted\u001b[0m \u001b[0;34m=\u001b[0m \u001b[0mconvert_exception\u001b[0m\u001b[0;34m(\u001b[0m\u001b[0me\u001b[0m\u001b[0;34m.\u001b[0m\u001b[0mjava_exception\u001b[0m\u001b[0;34m)\u001b[0m\u001b[0;34m\u001b[0m\u001b[0;34m\u001b[0m\u001b[0m\n",
      "\u001b[0;32m/usr/local/spark/python/lib/py4j-0.10.9.5-src.zip/py4j/protocol.py\u001b[0m in \u001b[0;36mget_return_value\u001b[0;34m(answer, gateway_client, target_id, name)\u001b[0m\n\u001b[1;32m    324\u001b[0m             \u001b[0mvalue\u001b[0m \u001b[0;34m=\u001b[0m \u001b[0mOUTPUT_CONVERTER\u001b[0m\u001b[0;34m[\u001b[0m\u001b[0mtype\u001b[0m\u001b[0;34m]\u001b[0m\u001b[0;34m(\u001b[0m\u001b[0manswer\u001b[0m\u001b[0;34m[\u001b[0m\u001b[0;36m2\u001b[0m\u001b[0;34m:\u001b[0m\u001b[0;34m]\u001b[0m\u001b[0;34m,\u001b[0m \u001b[0mgateway_client\u001b[0m\u001b[0;34m)\u001b[0m\u001b[0;34m\u001b[0m\u001b[0;34m\u001b[0m\u001b[0m\n\u001b[1;32m    325\u001b[0m             \u001b[0;32mif\u001b[0m \u001b[0manswer\u001b[0m\u001b[0;34m[\u001b[0m\u001b[0;36m1\u001b[0m\u001b[0;34m]\u001b[0m \u001b[0;34m==\u001b[0m \u001b[0mREFERENCE_TYPE\u001b[0m\u001b[0;34m:\u001b[0m\u001b[0;34m\u001b[0m\u001b[0;34m\u001b[0m\u001b[0m\n\u001b[0;32m--> 326\u001b[0;31m                 raise Py4JJavaError(\n\u001b[0m\u001b[1;32m    327\u001b[0m                     \u001b[0;34m\"An error occurred while calling {0}{1}{2}.\\n\"\u001b[0m\u001b[0;34m.\u001b[0m\u001b[0;34m\u001b[0m\u001b[0;34m\u001b[0m\u001b[0m\n\u001b[1;32m    328\u001b[0m                     format(target_id, \".\", name), value)\n",
      "\u001b[0;31mPy4JJavaError\u001b[0m: An error occurred while calling o60.load.\n: java.lang.ClassNotFoundException: \nFailed to find data source: mongodb. Please find packages at\nhttp://spark.apache.org/third-party-projects.html\n       \n\tat org.apache.spark.sql.errors.QueryExecutionErrors$.failedToFindDataSourceError(QueryExecutionErrors.scala:443)\n\tat org.apache.spark.sql.execution.datasources.DataSource$.lookupDataSource(DataSource.scala:670)\n\tat org.apache.spark.sql.execution.datasources.DataSource$.lookupDataSourceV2(DataSource.scala:720)\n\tat org.apache.spark.sql.DataFrameReader.load(DataFrameReader.scala:210)\n\tat org.apache.spark.sql.DataFrameReader.load(DataFrameReader.scala:174)\n\tat sun.reflect.NativeMethodAccessorImpl.invoke0(Native Method)\n\tat sun.reflect.NativeMethodAccessorImpl.invoke(NativeMethodAccessorImpl.java:62)\n\tat sun.reflect.DelegatingMethodAccessorImpl.invoke(DelegatingMethodAccessorImpl.java:43)\n\tat java.lang.reflect.Method.invoke(Method.java:498)\n\tat py4j.reflection.MethodInvoker.invoke(MethodInvoker.java:244)\n\tat py4j.reflection.ReflectionEngine.invoke(ReflectionEngine.java:357)\n\tat py4j.Gateway.invoke(Gateway.java:282)\n\tat py4j.commands.AbstractCommand.invokeMethod(AbstractCommand.java:132)\n\tat py4j.commands.CallCommand.execute(CallCommand.java:79)\n\tat py4j.ClientServerConnection.waitForCommands(ClientServerConnection.java:182)\n\tat py4j.ClientServerConnection.run(ClientServerConnection.java:106)\n\tat java.lang.Thread.run(Thread.java:750)\nCaused by: java.lang.ClassNotFoundException: mongodb.DefaultSource\n\tat java.net.URLClassLoader.findClass(URLClassLoader.java:387)\n\tat java.lang.ClassLoader.loadClass(ClassLoader.java:418)\n\tat java.lang.ClassLoader.loadClass(ClassLoader.java:351)\n\tat org.apache.spark.sql.execution.datasources.DataSource$.$anonfun$lookupDataSource$5(DataSource.scala:656)\n\tat scala.util.Try$.apply(Try.scala:213)\n\tat org.apache.spark.sql.execution.datasources.DataSource$.$anonfun$lookupDataSource$4(DataSource.scala:656)\n\tat scala.util.Failure.orElse(Try.scala:224)\n\tat org.apache.spark.sql.execution.datasources.DataSource$.lookupDataSource(DataSource.scala:656)\n\t... 15 more\n"
     ]
    }
   ],
   "source": [
    "spark.read.format(\"mongodb\").option(\"uri\", \"mongodb://127.0.0.1/MishaTweets\").load()"
   ]
  },
  {
   "cell_type": "markdown",
   "id": "f68276ba",
   "metadata": {},
   "source": [
    "God I just don't know what I'm doing here. This mongo spark connector has me so lost.\n",
    "\n",
    "As you can see from my sentiment analysis notebook, I ended up bypassing processing tweets using a distributed file system (i.e. Spark) because I didn't have time to fight with the computer. But the intention was:\n",
    "- read json files and write into mongodb db as collection by month (see above)\n",
    "- use spark connector to interact with that mongodb database in spark\n",
    "- use sparkSQL to query the database\n",
    "- extract only tweets where lang = 'en'\n",
    "- drop unnecessary columns (created at, source, lang)\n",
    "- write timestamp and text to csv file\n",
    "- then load that csv file into pandas dataframe and carry on as shown in sentiment analysis notebook\n",
    "\n",
    "Obviously I still managed the dataprocessing in pandas but yeah. Couldn't get mongo spark connector to work so my processing did not get to be done in spark as I intended."
   ]
  },
  {
   "cell_type": "code",
   "execution_count": null,
   "id": "a6ebe6bc",
   "metadata": {},
   "outputs": [],
   "source": []
  }
 ],
 "metadata": {
  "kernelspec": {
   "display_name": "Python 3 (ipykernel)",
   "language": "python",
   "name": "python3"
  },
  "language_info": {
   "codemirror_mode": {
    "name": "ipython",
    "version": 3
   },
   "file_extension": ".py",
   "mimetype": "text/x-python",
   "name": "python",
   "nbconvert_exporter": "python",
   "pygments_lexer": "ipython3",
   "version": "3.10.6"
  }
 },
 "nbformat": 4,
 "nbformat_minor": 5
}
