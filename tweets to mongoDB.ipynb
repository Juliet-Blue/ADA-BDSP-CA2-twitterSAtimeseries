{
 "cells": [
  {
   "cell_type": "code",
   "execution_count": 1,
   "id": "43f67208",
   "metadata": {},
   "outputs": [],
   "source": [
    "#!pip uninstall pymongo"
   ]
  },
  {
   "cell_type": "code",
   "execution_count": 2,
   "id": "95e8e34b",
   "metadata": {},
   "outputs": [
    {
     "name": "stdout",
     "output_type": "stream",
     "text": [
      "Defaulting to user installation because normal site-packages is not writeable\n",
      "Requirement already satisfied: pymongo==3.13.0 in /home/hduser/.local/lib/python3.10/site-packages (3.13.0)\n"
     ]
    }
   ],
   "source": [
    "#!pip install pymongo==3.13.0"
   ]
  },
  {
   "cell_type": "code",
   "execution_count": 5,
   "id": "73c306fc",
   "metadata": {},
   "outputs": [],
   "source": [
    "import pymongo"
   ]
  },
  {
   "cell_type": "code",
   "execution_count": 6,
   "id": "3d544def",
   "metadata": {},
   "outputs": [
    {
     "data": {
      "text/plain": [
       "'3.13.0'"
      ]
     },
     "execution_count": 6,
     "metadata": {},
     "output_type": "execute_result"
    }
   ],
   "source": [
    "pymongo.version"
   ]
  },
  {
   "cell_type": "code",
   "execution_count": 7,
   "id": "fcd7a868",
   "metadata": {},
   "outputs": [],
   "source": [
    "client = pymongo.MongoClient(\"mongodb://localhost:27017\")"
   ]
  },
  {
   "cell_type": "code",
   "execution_count": 38,
   "id": "4d8635fc",
   "metadata": {},
   "outputs": [
    {
     "data": {
      "text/plain": [
       "['MishaTweets', 'local', 'ycsb']"
      ]
     },
     "execution_count": 38,
     "metadata": {},
     "output_type": "execute_result"
    }
   ],
   "source": [
    "client.list_database_names()"
   ]
  },
  {
   "cell_type": "code",
   "execution_count": 14,
   "id": "977fce15",
   "metadata": {},
   "outputs": [],
   "source": [
    "import os"
   ]
  },
  {
   "cell_type": "code",
   "execution_count": 15,
   "id": "b6271c29",
   "metadata": {},
   "outputs": [
    {
     "data": {
      "text/plain": [
       "['key_tweets_2022-07.json',\n",
       " '.git',\n",
       " '.ipynb_checkpoints',\n",
       " 'key_tweets_2022-03.json',\n",
       " 'key_tweets_2022-10.json',\n",
       " 'key_tweets_2022-05.json',\n",
       " 'archive.org tweet extract.ipynb',\n",
       " '.gitattributes',\n",
       " 'key_tweets_2022-06.json',\n",
       " 'key_tweets_2022-08.json',\n",
       " 'key_tweets_2021-11.json',\n",
       " 'key_tweets_2022-11.json',\n",
       " 'archive.org tweets to mongoDB.ipynb',\n",
       " 'key_tweets_2022-01.json',\n",
       " 'key_tweets_2022-04.json',\n",
       " 'key_tweets_2021-12.json',\n",
       " 'key_tweets_2022-02.json',\n",
       " 'key_tweets_2022-09.json']"
      ]
     },
     "execution_count": 15,
     "metadata": {},
     "output_type": "execute_result"
    }
   ],
   "source": [
    "os.listdir(os.getcwd())"
   ]
  },
  {
   "cell_type": "code",
   "execution_count": 16,
   "id": "526a5d5e",
   "metadata": {},
   "outputs": [],
   "source": [
    "import json"
   ]
  },
  {
   "cell_type": "code",
   "execution_count": 18,
   "id": "91d9ed9e",
   "metadata": {},
   "outputs": [],
   "source": [
    "tweets = []\n",
    "with open(r\"key_tweets_2021-11.json\", encoding=\"utf8\") as f:\n",
    "    for line in f:\n",
    "        tweets.append(json.loads(line))\n"
   ]
  },
  {
   "cell_type": "code",
   "execution_count": 21,
   "id": "fc40668d",
   "metadata": {},
   "outputs": [
    {
     "data": {
      "text/plain": [
       "{'created_at': 'Mon Nov 01 02:02:27 +0000 2021',\n",
       " 'text': '@mishacollins',\n",
       " 'source': '<a href=\"http://twitter.com/download/android\" rel=\"nofollow\">Twitter for Android</a>',\n",
       " '\\n            \"user\": {\\n                \"id\": tweet_user_id,\\n                \"name\": tweet_user_name,\\n                \"location\": tweet_user_location,\\n                \"url\": tweet_user_url,\\n                \"description\": tweet_user_description,\\n                \"verified\": tweet_user_verified,\\n                \"followers_count\": tweet_user_follower_count,\\n                \"friends_count\": tweet_user_friends_count,\\n                \"favourites_count\": tweet_user_favourites_count,\\n                \"statuses_count\": tweet_user_statuses_count,\\n                \"created_at\": tweet_user_created_at,\\n                \"utc_offset\": tweet_user_utc_offset,\\n                \"time_zone\": tweet_user_timezone,\\n                \"geo_enabled\": tweet_user_geo_enabled,\\n                \"lang\": tweet_user_language,\\n                },\\n            lang': 'und',\n",
       " 'timestamp_ms': '1635732147661'}"
      ]
     },
     "execution_count": 21,
     "metadata": {},
     "output_type": "execute_result"
    }
   ],
   "source": [
    "tweets[0][0]"
   ]
  },
  {
   "cell_type": "code",
   "execution_count": 22,
   "id": "1314dafb",
   "metadata": {},
   "outputs": [],
   "source": [
    "db = client['MishaTweets']"
   ]
  },
  {
   "cell_type": "code",
   "execution_count": 23,
   "id": "953e7306",
   "metadata": {},
   "outputs": [],
   "source": [
    "coll = db['MishaTweets2111']"
   ]
  },
  {
   "cell_type": "code",
   "execution_count": 24,
   "id": "5d7b073f",
   "metadata": {},
   "outputs": [
    {
     "data": {
      "text/plain": [
       "526"
      ]
     },
     "execution_count": 24,
     "metadata": {},
     "output_type": "execute_result"
    }
   ],
   "source": [
    "len(tweets)"
   ]
  },
  {
   "cell_type": "code",
   "execution_count": 25,
   "id": "5301a6d3",
   "metadata": {},
   "outputs": [],
   "source": [
    "for tweet in tweets:\n",
    "    coll.insert_one(tweet[0])"
   ]
  },
  {
   "cell_type": "code",
   "execution_count": 26,
   "id": "1ae63df5",
   "metadata": {},
   "outputs": [
    {
     "data": {
      "text/plain": [
       "Collection(Database(MongoClient(host=['localhost:27017'], document_class=dict, tz_aware=False, connect=True), 'MishaTweets'), 'MishaTweets2111')"
      ]
     },
     "execution_count": 26,
     "metadata": {},
     "output_type": "execute_result"
    }
   ],
   "source": [
    "coll"
   ]
  },
  {
   "cell_type": "markdown",
   "id": "edde5900",
   "metadata": {},
   "source": [
    "I had this further along working but my laptop died with unsaved changes :("
   ]
  },
  {
   "cell_type": "code",
   "execution_count": 37,
   "id": "1ebb8081",
   "metadata": {},
   "outputs": [
    {
     "data": {
      "text/plain": [
       "['/home/hduser/Desktop/CA2/ADA-BDSP-CA2-twitterSAtimeseries/key_tweets_2022-07.json',\n",
       " '/home/hduser/Desktop/CA2/ADA-BDSP-CA2-twitterSAtimeseries/key_tweets_2022-03.json',\n",
       " '/home/hduser/Desktop/CA2/ADA-BDSP-CA2-twitterSAtimeseries/key_tweets_2022-10.json',\n",
       " '/home/hduser/Desktop/CA2/ADA-BDSP-CA2-twitterSAtimeseries/key_tweets_2022-05.json',\n",
       " '/home/hduser/Desktop/CA2/ADA-BDSP-CA2-twitterSAtimeseries/key_tweets_2022-06.json',\n",
       " '/home/hduser/Desktop/CA2/ADA-BDSP-CA2-twitterSAtimeseries/key_tweets_2022-08.json',\n",
       " '/home/hduser/Desktop/CA2/ADA-BDSP-CA2-twitterSAtimeseries/key_tweets_2021-11.json',\n",
       " '/home/hduser/Desktop/CA2/ADA-BDSP-CA2-twitterSAtimeseries/key_tweets_2022-11.json',\n",
       " '/home/hduser/Desktop/CA2/ADA-BDSP-CA2-twitterSAtimeseries/key_tweets_2022-01.json',\n",
       " '/home/hduser/Desktop/CA2/ADA-BDSP-CA2-twitterSAtimeseries/key_tweets_2022-04.json',\n",
       " '/home/hduser/Desktop/CA2/ADA-BDSP-CA2-twitterSAtimeseries/key_tweets_2021-12.json',\n",
       " '/home/hduser/Desktop/CA2/ADA-BDSP-CA2-twitterSAtimeseries/key_tweets_2022-02.json',\n",
       " '/home/hduser/Desktop/CA2/ADA-BDSP-CA2-twitterSAtimeseries/key_tweets_2022-09.json']"
      ]
     },
     "execution_count": 37,
     "metadata": {},
     "output_type": "execute_result"
    }
   ],
   "source": [
    "import glob\n",
    "\n",
    "path = os.getcwd() + '/*.json'\n",
    "keytweets = glob.glob(path)\n",
    "keytweets"
   ]
  },
  {
   "cell_type": "code",
   "execution_count": 39,
   "id": "8dd357fd",
   "metadata": {},
   "outputs": [
    {
     "ename": "TypeError",
     "evalue": "'Collection' object is not callable. If you meant to call the 'getCollectionNames' method on a 'Database' object it is failing because no such method exists.",
     "output_type": "error",
     "traceback": [
      "\u001b[0;31m---------------------------------------------------------------------------\u001b[0m",
      "\u001b[0;31mTypeError\u001b[0m                                 Traceback (most recent call last)",
      "\u001b[0;32m/tmp/ipykernel_8019/174158450.py\u001b[0m in \u001b[0;36m<module>\u001b[0;34m\u001b[0m\n\u001b[0;32m----> 1\u001b[0;31m \u001b[0mdb\u001b[0m\u001b[0;34m.\u001b[0m\u001b[0mgetCollectionNames\u001b[0m\u001b[0;34m(\u001b[0m\u001b[0;34m)\u001b[0m\u001b[0;34m\u001b[0m\u001b[0;34m\u001b[0m\u001b[0m\n\u001b[0m",
      "\u001b[0;32m~/.local/lib/python3.10/site-packages/pymongo/collection.py\u001b[0m in \u001b[0;36m__call__\u001b[0;34m(self, *args, **kwargs)\u001b[0m\n\u001b[1;32m   3806\u001b[0m         \u001b[0;34m\"\"\"This is only here so that some API misusages are easier to debug.\"\"\"\u001b[0m\u001b[0;34m\u001b[0m\u001b[0;34m\u001b[0m\u001b[0m\n\u001b[1;32m   3807\u001b[0m         \u001b[0;32mif\u001b[0m \u001b[0;34m\".\"\u001b[0m \u001b[0;32mnot\u001b[0m \u001b[0;32min\u001b[0m \u001b[0mself\u001b[0m\u001b[0;34m.\u001b[0m\u001b[0m__name\u001b[0m\u001b[0;34m:\u001b[0m\u001b[0;34m\u001b[0m\u001b[0;34m\u001b[0m\u001b[0m\n\u001b[0;32m-> 3808\u001b[0;31m             raise TypeError(\n\u001b[0m\u001b[1;32m   3809\u001b[0m                 \u001b[0;34m\"'Collection' object is not callable. If you \"\u001b[0m\u001b[0;34m\u001b[0m\u001b[0;34m\u001b[0m\u001b[0m\n\u001b[1;32m   3810\u001b[0m                 \u001b[0;34m\"meant to call the '%s' method on a 'Database' \"\u001b[0m\u001b[0;34m\u001b[0m\u001b[0;34m\u001b[0m\u001b[0m\n",
      "\u001b[0;31mTypeError\u001b[0m: 'Collection' object is not callable. If you meant to call the 'getCollectionNames' method on a 'Database' object it is failing because no such method exists."
     ]
    }
   ],
   "source": [
    "db.getCollectionNames()"
   ]
  },
  {
   "cell_type": "code",
   "execution_count": null,
<<<<<<< HEAD
   "id": "b0bfb102",
=======
   "id": "6f0d426c",
>>>>>>> 2e7a842f55ce269d8d66c199c75d6b1bd107bf9a
   "metadata": {},
   "outputs": [],
   "source": []
  }
 ],
 "metadata": {
  "kernelspec": {
   "display_name": "Python 3 (ipykernel)",
   "language": "python",
   "name": "python3"
  },
  "language_info": {
   "codemirror_mode": {
    "name": "ipython",
    "version": 3
   },
   "file_extension": ".py",
   "mimetype": "text/x-python",
   "name": "python",
   "nbconvert_exporter": "python",
   "pygments_lexer": "ipython3",
   "version": "3.9.13"
  }
 },
 "nbformat": 4,
 "nbformat_minor": 5
}
