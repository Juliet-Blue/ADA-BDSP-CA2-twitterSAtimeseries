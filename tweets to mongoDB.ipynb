{
 "cells": [
  {
   "cell_type": "code",
   "execution_count": 1,
   "id": "5c1791fb",
   "metadata": {},
   "outputs": [],
   "source": [
    "#!pip uninstall pymongo"
   ]
  },
  {
   "cell_type": "code",
   "execution_count": 2,
   "id": "95e8e34b",
   "metadata": {},
   "outputs": [
    {
     "name": "stdout",
     "output_type": "stream",
     "text": [
      "Defaulting to user installation because normal site-packages is not writeable\n",
      "Requirement already satisfied: pymongo==3.13.0 in /home/hduser/.local/lib/python3.10/site-packages (3.13.0)\n"
     ]
    }
   ],
   "source": [
    "#!pip install pymongo==3.13.0"
   ]
  },
  {
   "cell_type": "code",
   "execution_count": 5,
   "id": "73c306fc",
   "metadata": {},
   "outputs": [],
   "source": [
    "import pymongo"
   ]
  },
  {
   "cell_type": "code",
   "execution_count": 6,
   "id": "6fff1f7e",
   "metadata": {},
   "outputs": [
    {
     "data": {
      "text/plain": [
       "'3.13.0'"
      ]
     },
     "execution_count": 6,
     "metadata": {},
     "output_type": "execute_result"
    }
   ],
   "source": [
    "pymongo.version"
   ]
  },
  {
   "cell_type": "code",
   "execution_count": 7,
   "id": "fcd7a868",
   "metadata": {},
   "outputs": [],
   "source": [
    "client = pymongo.MongoClient(\"mongodb://localhost:27017\")"
   ]
  },
  {
   "cell_type": "code",
   "execution_count": 8,
   "id": "474b5b53",
   "metadata": {},
   "outputs": [],
   "source": [
    "db = client[\"test\"]"
   ]
  },
  {
   "cell_type": "code",
   "execution_count": 9,
   "id": "4d8635fc",
   "metadata": {},
   "outputs": [
    {
     "data": {
      "text/plain": [
       "['local', 'ycsb']"
      ]
     },
     "execution_count": 9,
     "metadata": {},
     "output_type": "execute_result"
    }
   ],
   "source": [
    "client.list_database_names()"
   ]
  },
  {
   "cell_type": "code",
   "execution_count": 14,
   "id": "977fce15",
   "metadata": {},
   "outputs": [],
   "source": [
    "import os"
   ]
  },
  {
   "cell_type": "code",
   "execution_count": 15,
   "id": "b6271c29",
   "metadata": {},
   "outputs": [
    {
     "data": {
      "text/plain": [
       "['key_tweets_2022-07.json',\n",
       " '.git',\n",
       " '.ipynb_checkpoints',\n",
       " 'key_tweets_2022-03.json',\n",
       " 'key_tweets_2022-10.json',\n",
       " 'key_tweets_2022-05.json',\n",
       " 'archive.org tweet extract.ipynb',\n",
       " '.gitattributes',\n",
       " 'key_tweets_2022-06.json',\n",
       " 'key_tweets_2022-08.json',\n",
       " 'key_tweets_2021-11.json',\n",
       " 'key_tweets_2022-11.json',\n",
       " 'archive.org tweets to mongoDB.ipynb',\n",
       " 'key_tweets_2022-01.json',\n",
       " 'key_tweets_2022-04.json',\n",
       " 'key_tweets_2021-12.json',\n",
       " 'key_tweets_2022-02.json',\n",
       " 'key_tweets_2022-09.json']"
      ]
     },
     "execution_count": 15,
     "metadata": {},
     "output_type": "execute_result"
    }
   ],
   "source": [
    "os.listdir(os.getcwd())"
   ]
  },
  {
   "cell_type": "code",
   "execution_count": 16,
   "id": "526a5d5e",
   "metadata": {},
   "outputs": [],
   "source": [
    "import json"
   ]
  },
  {
   "cell_type": "code",
   "execution_count": 18,
   "id": "f205a1a9",
   "metadata": {},
   "outputs": [],
   "source": [
    "tweets = []\n",
    "with open(r\"key_tweets_2021-11.json\", encoding=\"utf8\") as f:\n",
    "    for line in f:\n",
    "        tweets.append(json.loads(line))\n"
   ]
  },
  {
   "cell_type": "code",
   "execution_count": 21,
   "id": "12383c11",
   "metadata": {},
   "outputs": [
    {
     "data": {
      "text/plain": [
       "{'created_at': 'Mon Nov 01 02:02:27 +0000 2021',\n",
       " 'text': '@mishacollins',\n",
       " 'source': '<a href=\"http://twitter.com/download/android\" rel=\"nofollow\">Twitter for Android</a>',\n",
       " '\\n            \"user\": {\\n                \"id\": tweet_user_id,\\n                \"name\": tweet_user_name,\\n                \"location\": tweet_user_location,\\n                \"url\": tweet_user_url,\\n                \"description\": tweet_user_description,\\n                \"verified\": tweet_user_verified,\\n                \"followers_count\": tweet_user_follower_count,\\n                \"friends_count\": tweet_user_friends_count,\\n                \"favourites_count\": tweet_user_favourites_count,\\n                \"statuses_count\": tweet_user_statuses_count,\\n                \"created_at\": tweet_user_created_at,\\n                \"utc_offset\": tweet_user_utc_offset,\\n                \"time_zone\": tweet_user_timezone,\\n                \"geo_enabled\": tweet_user_geo_enabled,\\n                \"lang\": tweet_user_language,\\n                },\\n            lang': 'und',\n",
       " 'timestamp_ms': '1635732147661'}"
      ]
     },
     "execution_count": 21,
     "metadata": {},
     "output_type": "execute_result"
    }
   ],
   "source": [
    "tweets[0][0]"
   ]
  },
  {
   "cell_type": "code",
   "execution_count": 22,
   "id": "81cdf1ff",
   "metadata": {},
   "outputs": [],
   "source": [
    "db = client['MishaTweets']"
   ]
  },
  {
   "cell_type": "code",
   "execution_count": 23,
   "id": "56e31246",
   "metadata": {},
   "outputs": [],
   "source": [
    "coll = db['MishaTweets2111']"
   ]
  },
  {
   "cell_type": "code",
   "execution_count": 24,
   "id": "a0780a6e",
   "metadata": {},
   "outputs": [
    {
     "data": {
      "text/plain": [
       "526"
      ]
     },
     "execution_count": 24,
     "metadata": {},
     "output_type": "execute_result"
    }
   ],
   "source": [
    "len(tweets)"
   ]
  },
  {
   "cell_type": "code",
   "execution_count": 25,
   "id": "b6f81c01",
   "metadata": {},
   "outputs": [],
   "source": [
    "for tweet in tweets:\n",
    "    coll.insert_one(tweet[0])"
   ]
  },
  {
   "cell_type": "code",
   "execution_count": 26,
   "id": "a03415fb",
   "metadata": {},
   "outputs": [
    {
     "data": {
      "text/plain": [
       "Collection(Database(MongoClient(host=['localhost:27017'], document_class=dict, tz_aware=False, connect=True), 'MishaTweets'), 'MishaTweets2111')"
      ]
     },
     "execution_count": 26,
     "metadata": {},
     "output_type": "execute_result"
    }
   ],
   "source": [
    "coll"
   ]
  },
  {
   "cell_type": "code",
   "execution_count": null,
   "id": "76423f41",
   "metadata": {},
   "outputs": [],
   "source": []
  }
 ],
 "metadata": {
  "kernelspec": {
   "display_name": "Python 3 (ipykernel)",
   "language": "python",
   "name": "python3"
  },
  "language_info": {
   "codemirror_mode": {
    "name": "ipython",
    "version": 3
   },
   "file_extension": ".py",
   "mimetype": "text/x-python",
   "name": "python",
   "nbconvert_exporter": "python",
   "pygments_lexer": "ipython3",
   "version": "3.10.6"
  }
 },
 "nbformat": 4,
 "nbformat_minor": 5
}
